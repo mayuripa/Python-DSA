{
 "cells": [
  {
   "cell_type": "markdown",
   "id": "23ab3391",
   "metadata": {},
   "source": [
    "# Hello Program\n"
   ]
  },
  {
   "cell_type": "code",
   "execution_count": 1,
   "id": "63423486",
   "metadata": {},
   "outputs": [
    {
     "name": "stdout",
     "output_type": "stream",
     "text": [
      "Hello,Mayuri\n"
     ]
    }
   ],
   "source": [
    "print(\"Hello,Mayuri\")"
   ]
  },
  {
   "cell_type": "code",
   "execution_count": 2,
   "id": "20762677",
   "metadata": {},
   "outputs": [
    {
     "name": "stdout",
     "output_type": "stream",
     "text": [
      "Hello,Gouri\n",
      "Hello,Gundu\n"
     ]
    }
   ],
   "source": [
    "print(\"Hello,Gouri\")\n",
    "print(\"Hello,Gundu\")"
   ]
  },
  {
   "cell_type": "markdown",
   "id": "67b9bd17",
   "metadata": {},
   "source": [
    "## Variables"
   ]
  },
  {
   "cell_type": "code",
   "execution_count": 3,
   "id": "94a24026",
   "metadata": {},
   "outputs": [
    {
     "data": {
      "text/plain": [
       "30"
      ]
     },
     "execution_count": 3,
     "metadata": {},
     "output_type": "execute_result"
    }
   ],
   "source": [
    "a = 10\n",
    "b =20\n",
    "a+b"
   ]
  },
  {
   "cell_type": "code",
   "execution_count": 4,
   "id": "5d021c4f",
   "metadata": {},
   "outputs": [
    {
     "name": "stdout",
     "output_type": "stream",
     "text": [
      "15\n"
     ]
    }
   ],
   "source": [
    "c=5\n",
    "d=10\n",
    "sum = c+d\n",
    "print(sum)"
   ]
  },
  {
   "cell_type": "code",
   "execution_count": 5,
   "id": "bf41c8c0",
   "metadata": {},
   "outputs": [
    {
     "data": {
      "text/plain": [
       "int"
      ]
     },
     "execution_count": 5,
     "metadata": {},
     "output_type": "execute_result"
    }
   ],
   "source": [
    "# To know the type of data\n",
    "type(c)"
   ]
  },
  {
   "cell_type": "markdown",
   "id": "0f295826",
   "metadata": {},
   "source": [
    "## how variable is stored?\n"
   ]
  },
  {
   "cell_type": "code",
   "execution_count": 6,
   "id": "a1eb5be1",
   "metadata": {},
   "outputs": [
    {
     "name": "stdout",
     "output_type": "stream",
     "text": [
      "1953072507472\n",
      "1953072507792\n"
     ]
    }
   ],
   "source": [
    "a = 10\n",
    "print(id(a))\n",
    "a = 20\n",
    "print(id(a))"
   ]
  },
  {
   "cell_type": "code",
   "execution_count": 7,
   "id": "83fa0993",
   "metadata": {},
   "outputs": [
    {
     "name": "stdout",
     "output_type": "stream",
     "text": [
      "1953072507952\n",
      "1953072507952\n"
     ]
    }
   ],
   "source": [
    "c = 25\n",
    "print(id(c))\n",
    "d = 25\n",
    "print(id(d))"
   ]
  },
  {
   "cell_type": "code",
   "execution_count": 8,
   "id": "e57afc61",
   "metadata": {},
   "outputs": [
    {
     "name": "stdout",
     "output_type": "stream",
     "text": [
      "1953158972784\n",
      "1953158973360\n"
     ]
    }
   ],
   "source": [
    "e = 1000\n",
    "print(id(e))\n",
    "f = 1000\n",
    "print(id(f))"
   ]
  },
  {
   "cell_type": "markdown",
   "id": "006256f4",
   "metadata": {},
   "source": [
    "## Airthemetic operations"
   ]
  },
  {
   "cell_type": "code",
   "execution_count": 9,
   "id": "e10ae8be",
   "metadata": {},
   "outputs": [
    {
     "name": "stdout",
     "output_type": "stream",
     "text": [
      "9\n",
      "1\n",
      "20\n",
      "1.25\n",
      "1\n",
      "625\n"
     ]
    }
   ],
   "source": [
    "a = 5\n",
    "b = 4\n",
    "print(a+b)\n",
    "print(a-b)\n",
    "print(a*b)\n",
    "print(a/b)\n",
    "print(a//b)\n",
    "print(a**b)\n"
   ]
  },
  {
   "cell_type": "markdown",
   "id": "e081b33c",
   "metadata": {},
   "source": [
    "## taking input"
   ]
  },
  {
   "cell_type": "code",
   "execution_count": 12,
   "id": "8dca35ca",
   "metadata": {},
   "outputs": [
    {
     "name": "stdout",
     "output_type": "stream",
     "text": [
      "enter the number 3\n"
     ]
    },
    {
     "data": {
      "text/plain": [
       "3"
      ]
     },
     "execution_count": 12,
     "metadata": {},
     "output_type": "execute_result"
    }
   ],
   "source": [
    "a = int(input(\"enter the number \"))\n",
    "a"
   ]
  },
  {
   "cell_type": "markdown",
   "id": "5a9e82d5",
   "metadata": {},
   "source": [
    "## Problems"
   ]
  },
  {
   "cell_type": "code",
   "execution_count": 14,
   "id": "1591936e",
   "metadata": {},
   "outputs": [
    {
     "name": "stdout",
     "output_type": "stream",
     "text": [
      "enter the principal amaount1000\n",
      "enter the time period2\n",
      "enter the rate of interest14\n",
      "280\n"
     ]
    }
   ],
   "source": [
    "# simple interest\n",
    "p = int(input(\"enter the principal amaount\"))\n",
    "t = int(input(\"enter the time period\"))\n",
    "r = int(input(\"enter the rate of interest\"))\n",
    "SI = (p*t*r)//100\n",
    "print(SI)"
   ]
  },
  {
   "cell_type": "code",
   "execution_count": 15,
   "id": "ea51d72e",
   "metadata": {},
   "outputs": [
    {
     "name": "stdout",
     "output_type": "stream",
     "text": [
      "Enter the temperature in Fahrenheit54\n",
      "12.222222222222221\n"
     ]
    }
   ],
   "source": [
    "# fahrenheit to celsius\n",
    "f = int(input(\"Enter the temperature in Fahrenheit\"))\n",
    "c = (f-32)*5/9\n",
    "print(c)"
   ]
  },
  {
   "cell_type": "markdown",
   "id": "f29f771d",
   "metadata": {},
   "source": [
    "Write a program to input marks of three tests of a student (all integers). Then calculate and print the average of all <br> test marks. <br> \n",
    "Input format :<br> \n",
    "3 Test marks (in different lines)<br> \n",
    "Output format :<br> \n",
    "Average <br> \n",
    "Sample Input 1 :<br> \n",
    "3 <br> \n",
    "4 <br> \n",
    "6<br> \n",
    "Sample Output 1 :<br> \n",
    "4.333333333333333<br> \n",
    "Sample Input 2 :<br> \n",
    "5 <br> \n",
    "10 <br> \n",
    "5<br> \n",
    "Sample Output 2 :<br> \n",
    "6.666666666666667<br> "
   ]
  },
  {
   "cell_type": "code",
   "execution_count": 17,
   "id": "72ec9c8b",
   "metadata": {},
   "outputs": [
    {
     "name": "stdout",
     "output_type": "stream",
     "text": [
      "enter the marks of text 15\n",
      "enter the marks of text 210\n",
      "enter the marks of text 35\n",
      "average of all text is  6.666666666666667\n"
     ]
    }
   ],
   "source": [
    "t1 = int(input(\"enter the marks of text 1\"))\n",
    "t2 = int(input(\"enter the marks of text 2\"))\n",
    "t3 = int(input(\"enter the marks of text 3\"))\n",
    "avg = (t1+t2+t3)/3\n",
    "print(\"average of all text is \",avg)\n"
   ]
  },
  {
   "cell_type": "markdown",
   "id": "26258c13",
   "metadata": {},
   "source": [
    "Find X raised to power N <br>\n",
    "Send Feedback <br>\n",
    "You are given two integers: X and N. You have to calculate X raised to power N and print it.<br>\n",
    "Input format:\n",
    "The first line of input contains an integer X (1 <= X <= 100) <br>\n",
    "The second line of input contains an integer N (1 <= N <= 10) <br>\n",
    "Constraints: <br>\n",
    "Time Limit: 1 second<br>\n",
    "Output format:<br>\n",
    "The first and only line of output contains the result.  <br>\n",
    "Sample Input:<br>\n",
    "10<br>\n",
    "4<br>\n",
    "Sample Output:<br>\n",
    "10000<br>\n",
    "\n",
    "\n",
    "Code Pair<br>\n"
   ]
  },
  {
   "cell_type": "code",
   "execution_count": 18,
   "id": "1a308061",
   "metadata": {},
   "outputs": [
    {
     "name": "stdout",
     "output_type": "stream",
     "text": [
      "10\n",
      "4\n",
      "10000\n"
     ]
    }
   ],
   "source": [
    "base = int(input())\n",
    "power = int(input())\n",
    "ans = base ** power\n",
    "print(ans)"
   ]
  },
  {
   "cell_type": "markdown",
   "id": "a9f5dbf4",
   "metadata": {},
   "source": [
    "Arithmetic Progression <br>\n",
    "Send Feedback <br>\n",
    "You are given first three entries of an arithmetic progression. You have to calculate the common difference and print it. <br>\n",
    "Input format: <br>\n",
    "The first line of input contains an integer a (1 <= a <= 100) <br>\n",
    "The second line of input contains an integer b (1 <= b <= 100) <br>\n",
    "The third line of input contains an integer c (1 <= c <= 100) <br>\n",
    "Constraints:<br>\n",
    "Time Limit: 1 second<br>\n",
    "Output format:<br>\n",
    "The first and only line of output contains the result.  <br>\n",
    "Sample Input:<br>\n",
    "1<br>\n",
    "3<br>\n",
    "5<br>\n",
    "Sample Output:<br>\n",
    "2<br>"
   ]
  },
  {
   "cell_type": "code",
   "execution_count": 19,
   "id": "68f595e0",
   "metadata": {},
   "outputs": [
    {
     "name": "stdout",
     "output_type": "stream",
     "text": [
      "1\n",
      "3\n",
      "5\n",
      "2\n"
     ]
    }
   ],
   "source": [
    "a = int(input())\n",
    "b = int(input())\n",
    "c = int(input())\n",
    "ap = b-a\n",
    "print(ap)"
   ]
  },
  {
   "cell_type": "markdown",
   "id": "f3700f1b",
   "metadata": {},
   "source": [
    "Rectangular Area <br>\n",
    "Send Feedback <br>\n",
    "You are given a rectangle in a plane. The coordinates of one of its diagonals are provided to you. You have to print the total <br>area of the rectangle.<br>\n",
    "The coordinates of the rectangle are provided as four integral values: x1, y1, x2, y2. It is given that x1 < x2 and y1 < y2.<br>\n",
    "\n",
    "\n",
    "Input format:<br>\n",
    "The first line of input contains an integer x1 <br>\n",
    "The second line of input contains an integer y1 <br> \n",
    "The third line of input contains an integer x2 <br>\n",
    "The fourth line of input contains an integer y2 <br>\n",
    "Constraints:<br>\n",
    "1 <= x1 <= 10<br>\n",
    "1 <= y1 <= 10<br>\n",
    "1 <= x2 <= 10<br>\n",
    "1 <= y2 <= 10 <br>\n",
    "Time Limit: 1 second<br>\n",
    "Output format:<br>\n",
    "The first and only line of output contains the result.  <br>\n",
    "Sample Input:<br>\n",
    "1<br>\n",
    "1<br>\n",
    "3<br>\n",
    "3<br>\n",
    "Sample Output:<br>\n",
    "4<br>\n",
    "Explanation:<br>\n",
    "The given coordinates of the diagonal are (x1,y1) = (1,1) and (x2,y2) = (3, 3). <br>\n",
    "The area of the rectangle can then easily be calculated as: <br>\n",
    "(3 – 1) * ( 3 – 1) = 2 * 2 = 4 <br>\n",
    "\n"
   ]
  },
  {
   "cell_type": "code",
   "execution_count": 20,
   "id": "72b2eed0",
   "metadata": {},
   "outputs": [
    {
     "name": "stdout",
     "output_type": "stream",
     "text": [
      "1\n",
      "1\n",
      "3\n",
      "3\n",
      "4\n"
     ]
    }
   ],
   "source": [
    "x1 = int(input())\n",
    "y1 = int(input())\n",
    "x2 = int(input())\n",
    "y2 = int(input())\n",
    "area = (x2-x1)*(y2-y1)\n",
    "print(area)"
   ]
  }
 ],
 "metadata": {
  "kernelspec": {
   "display_name": "Python 3 (ipykernel)",
   "language": "python",
   "name": "python3"
  },
  "language_info": {
   "codemirror_mode": {
    "name": "ipython",
    "version": 3
   },
   "file_extension": ".py",
   "mimetype": "text/x-python",
   "name": "python",
   "nbconvert_exporter": "python",
   "pygments_lexer": "ipython3",
   "version": "3.9.12"
  }
 },
 "nbformat": 4,
 "nbformat_minor": 5
}
