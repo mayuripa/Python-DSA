{
 "cells": [
  {
   "cell_type": "markdown",
   "id": "2ac06b23",
   "metadata": {},
   "source": [
    "### BOOL"
   ]
  },
  {
   "cell_type": "code",
   "execution_count": 2,
   "id": "213d9bdf",
   "metadata": {},
   "outputs": [
    {
     "data": {
      "text/plain": [
       "bool"
      ]
     },
     "execution_count": 2,
     "metadata": {},
     "output_type": "execute_result"
    }
   ],
   "source": [
    "a = True\n",
    "b = False\n",
    "type(a)"
   ]
  },
  {
   "cell_type": "markdown",
   "id": "a6b89638",
   "metadata": {},
   "source": [
    "### Reletional operators "
   ]
  },
  {
   "cell_type": "code",
   "execution_count": 4,
   "id": "4d13d5df",
   "metadata": {},
   "outputs": [
    {
     "name": "stdout",
     "output_type": "stream",
     "text": [
      "True\n",
      "False\n",
      "True\n",
      "False\n",
      "False\n",
      "True\n"
     ]
    }
   ],
   "source": [
    "c = 10\n",
    "d = 5 \n",
    "print(c>d)\n",
    "print(c<d)\n",
    "print(c>=d)\n",
    "print(c<=d)\n",
    "print(c==d)\n",
    "print(c!=d)"
   ]
  },
  {
   "cell_type": "markdown",
   "id": "c4031988",
   "metadata": {},
   "source": [
    "### Logical operators"
   ]
  },
  {
   "cell_type": "code",
   "execution_count": 7,
   "id": "089e95ee",
   "metadata": {},
   "outputs": [
    {
     "name": "stdout",
     "output_type": "stream",
     "text": [
      "True\n",
      "False\n",
      "False\n"
     ]
    }
   ],
   "source": [
    "r1 = c>d and c!=d\n",
    "r2 = c<d or c==d\n",
    "r3 = not r1\n",
    "print(r1)\n",
    "print(r2)\n",
    "print(r3)"
   ]
  },
  {
   "cell_type": "markdown",
   "id": "1a85ac71",
   "metadata": {},
   "source": [
    "### IF ELSE"
   ]
  },
  {
   "cell_type": "code",
   "execution_count": 15,
   "id": "f8e5f093",
   "metadata": {},
   "outputs": [
    {
     "name": "stdout",
     "output_type": "stream",
     "text": [
      "85\n",
      "Number is odd\n"
     ]
    }
   ],
   "source": [
    "# Check weather the number is even or odd.\n",
    "n = int(input())\n",
    "if (n % 2 == 0):\n",
    "    print(\"Number is even.\")\n",
    "else:\n",
    "    print(\"Number is odd\")\n"
   ]
  },
  {
   "cell_type": "markdown",
   "id": "1781595f",
   "metadata": {},
   "source": [
    "### elif"
   ]
  },
  {
   "cell_type": "code",
   "execution_count": 13,
   "id": "83d52029",
   "metadata": {},
   "outputs": [
    {
     "name": "stdout",
     "output_type": "stream",
     "text": [
      "too low\n"
     ]
    }
   ],
   "source": [
    "n =10\n",
    "if n>=1 and n<=10:\n",
    "    print(\"too low\")\n",
    "\n",
    "#Check If the number is between 11 to 20\n",
    "elif n>=10 and n<=20:\n",
    "    print(\"medium\")\n",
    "\n",
    "#Check If the number is between 21 to 30\n",
    "elif n>=20 and n<=30:\n",
    "    print(\"large\")\n",
    "#Check if the number is greater than 30 \n",
    "else:\n",
    "    print(\"too large\")"
   ]
  },
  {
   "cell_type": "code",
   "execution_count": 17,
   "id": "5b29cd15",
   "metadata": {},
   "outputs": [
    {
     "name": "stdout",
     "output_type": "stream",
     "text": [
      "8\n",
      "8\n",
      "2\n",
      "a is greater\n"
     ]
    }
   ],
   "source": [
    "# find largest of three numbers\n",
    "a = int(input())\n",
    "b = int(input())\n",
    "c = int(input())\n",
    "\n",
    "if a >= b and a>=c:\n",
    "    print(\"a is greater\")\n",
    "elif b >= a and b >= c:\n",
    "    print(\" b is greater\")\n",
    "else:\n",
    "    print(\"c is greater\")"
   ]
  },
  {
   "cell_type": "markdown",
   "id": "3e06f7b3",
   "metadata": {},
   "source": [
    "### while loop"
   ]
  },
  {
   "cell_type": "code",
   "execution_count": 20,
   "id": "345410e5",
   "metadata": {},
   "outputs": [
    {
     "name": "stdout",
     "output_type": "stream",
     "text": [
      "5\n",
      "1\n",
      "1\n",
      "1\n",
      "1\n",
      "1\n"
     ]
    }
   ],
   "source": [
    "n = int(input())\n",
    "count = 1\n",
    "while count <= n:\n",
    "    print(1)\n",
    "    count = count +1"
   ]
  },
  {
   "cell_type": "code",
   "execution_count": 21,
   "id": "e8b61741",
   "metadata": {},
   "outputs": [
    {
     "name": "stdout",
     "output_type": "stream",
     "text": [
      "5\n",
      "1\n",
      "2\n",
      "3\n",
      "4\n",
      "5\n"
     ]
    }
   ],
   "source": [
    "n = int(input())\n",
    "count = 1\n",
    "while count <= n:\n",
    "    print(count)\n",
    "    count = count+1\n",
    "    "
   ]
  },
  {
   "cell_type": "markdown",
   "id": "252c7c4b",
   "metadata": {},
   "source": [
    "# Problems\n"
   ]
  },
  {
   "cell_type": "code",
   "execution_count": 10,
   "id": "05ce6ee5",
   "metadata": {},
   "outputs": [
    {
     "name": "stdout",
     "output_type": "stream",
     "text": [
      "23\n",
      "is prime number\n"
     ]
    }
   ],
   "source": [
    "# check weather the given number is Prime or not\n",
    "n = int(input())\n",
    "div=2\n",
    "prime = True\n",
    "while div <n:\n",
    "    if n%div == 0:\n",
    "        print(\"Not a Prime number.\")\n",
    "        prime = False\n",
    "        break\n",
    "    div = div+1\n",
    "if prime ==True:\n",
    "    print(\"is prime number\")"
   ]
  },
  {
   "cell_type": "code",
   "execution_count": 16,
   "id": "f7dd4423",
   "metadata": {},
   "outputs": [
    {
     "name": "stdout",
     "output_type": "stream",
     "text": [
      "25\n",
      "2\n",
      "3\n",
      "5\n",
      "7\n",
      "11\n",
      "13\n",
      "17\n",
      "19\n",
      "23\n"
     ]
    }
   ],
   "source": [
    "# print all the Prime numbers from 2 to N\n",
    "n = int(input())\n",
    "num = 2\n",
    "while num <=n:\n",
    "    div=2\n",
    "    prime = True\n",
    "    while div <num:\n",
    "        if num%div == 0:\n",
    "            prime = False\n",
    "            break\n",
    "        div = div+1\n",
    "    if prime ==True:\n",
    "        print(num)\n",
    "    num = num+1\n",
    "    "
   ]
  },
  {
   "cell_type": "markdown",
   "id": "d0070afc",
   "metadata": {},
   "source": [
    "### Sum of n numbers<br>\n",
    "Given an integer n, find and print the sum of numbers from 1 to n.<br>\n",
    "Note : Use while loop only.<br>\n",
    "Input Format :<br>\n",
    "Integer n<br>\n",
    "Output Format :<br>\n",
    "Sum<br>\n",
    "Constraints :<br>\n",
    "1 <= n <= 100<br>\n",
    "Sample Input :<br>\n",
    "10<br>\n",
    "Sample Output :<br>\n",
    "55<br>"
   ]
  },
  {
   "cell_type": "code",
   "execution_count": 19,
   "id": "8ce22314",
   "metadata": {},
   "outputs": [
    {
     "name": "stdout",
     "output_type": "stream",
     "text": [
      "10\n",
      "55\n"
     ]
    }
   ],
   "source": [
    "n = int(input())\n",
    "i = 1\n",
    "sum = 0\n",
    "while i <=n:\n",
    "    sum = sum+i\n",
    "    i = i+1\n",
    "print(sum)"
   ]
  },
  {
   "cell_type": "markdown",
   "id": "06cb294b",
   "metadata": {},
   "source": [
    "### Sum of Even Numbers<br>\n",
    "Given a number N, print sum of all even numbers from 1 to N.<br>\n",
    "Input Format :<br>\n",
    "Integer N<br>\n",
    "Output Format :<br>\n",
    "Required Sum <br>\n",
    "Sample Input 1 :<br>\n",
    " 6<br>\n",
    "Sample Output 1 :<br>\n",
    "12<br>"
   ]
  },
  {
   "cell_type": "code",
   "execution_count": 20,
   "id": "a2acc99a",
   "metadata": {},
   "outputs": [
    {
     "name": "stdout",
     "output_type": "stream",
     "text": [
      "6\n",
      "12\n"
     ]
    }
   ],
   "source": [
    "n = int(input())\n",
    "i = 2\n",
    "sum= 0\n",
    "while i <=n:\n",
    "    if i % 2 == 0:\n",
    "        sum = sum+i\n",
    "    i = i+1\n",
    "print(sum)"
   ]
  },
  {
   "cell_type": "markdown",
   "id": "a06f5f9d",
   "metadata": {},
   "source": [
    "### Fahrenheit to Celsius<br>\n",
    "Given three values - Start Fahrenheit Value (S), End Fahrenheit value (E) and Step Size (W), you need to convert all Fahrenheit<br> values from Start to End at the gap of W, into their corresponding Celsius values and print the table.<br>\n",
    "Input Format :<br>\n",
    "3 integers - S, E and W respectively <br>\n",
    "Output Format :<br>\n",
    "Fahrenheit to Celsius conversion table. One line for every Fahrenheit and corresponding Celsius value. The Fahrenheit value and <br>its corresponding Celsius value should be separate by single space.<br>\n",
    "Constraints :<br>\n",
    "0 <= S <= 90<br><br>\n",
    "S <= E <=  900<br>\n",
    "0 <= W <= 80<br> \n",
    "Sample Input 1:<br>\n",
    "0 <br>\n",
    "100 <br>\n",
    "20<br>\n",
    "Sample Output 1:<br>\n",
    "0   -17<br>\n",
    "20  -6<br>\n",
    "40  4<br>\n",
    "60  15<br>\n",
    "80  26<br>\n",
    "100 37<br>\n",
    "Sample Input 2:<br>\n",
    "20<br>\n",
    "119<br>\n",
    "13<br>\n",
    "Sample Output 2:<br>\n",
    "20  -6<br>\n",
    "33  0 <br>\n",
    "46  7<br>\n",
    "59  15<br>\n",
    "72  22<br>\n",
    "85  29<br>\n",
    "98  36<br>\n",
    "111 43<br>\n",
    "Explanation For Input 2:<br>\n",
    "Start calculating the Celsius values for each Fahrenheit Value which starts from 20. So starting from 20, we need to compute <br>its corresponding Celsius value which computes to -6. We print this information as <Fahrenheit Value> <a single space> <br><Celsius Value> on each line. Now add 13 to Fahrenheit Value at each step until you reach 119 in this case. You may or may not <br>exactly land on the end value depending on the steps you are taking.<br>"
   ]
  },
  {
   "cell_type": "code",
   "execution_count": 23,
   "id": "83a67a4e",
   "metadata": {},
   "outputs": [
    {
     "name": "stdout",
     "output_type": "stream",
     "text": [
      "0\n",
      "100\n",
      "20\n",
      "0 -17\n",
      "20 -6\n",
      "40 4\n",
      "60 15\n",
      "80 26\n",
      "100 37\n"
     ]
    }
   ],
   "source": [
    "S = int(input())\n",
    "E = int(input())\n",
    "W = int(input())\n",
    "while S <=E:\n",
    "    c = int((S-32)*5/9)\n",
    "    print(S,c)\n",
    "    S = S +W"
   ]
  },
  {
   "cell_type": "markdown",
   "id": "2f3e4361",
   "metadata": {},
   "source": [
    "### Calculator\n",
    "Write a program that performs the tasks of a simple calculator. The program should first take an integer as input and then <br><br>based on that integer perform the task as given below.<br>\n",
    "1. If the input is 1, then 2 integers are taken from the user and their sum is printed.<br>\n",
    "2. If the input is 2, then 2 integers are taken from the user and their difference(1st number - 2nd number) is printed.<br>\n",
    "3. If the input is 3, then 2 integers are taken from the user and their product is printed.<br>\n",
    "4. If the input is 4, then 2 integers are taken from the user and the quotient obtained (on dividing 1st number by 2nd number)<br> is printed.<br>\n",
    "5. If the input is 5, then 2 integers are taken from the user and their remainder(1st number mod 2nd number) is printed.<br>\n",
    "6. If the input is 6, then the program exits.<br>\n",
    "7. For any other input, then print \"Invalid Operation\".<br>\n",
    "Note: Each answer in next line.<br>\n",
    "Input format:<br>\n",
    "Take integers as input, in accordance to the description of the question. <br>\n",
    "Constraints:<br>\n",
    "Time Limit: 1 second<br>\n",
    "Output format:<br>\n",
    "The output lines must be as prescribed in the description of the question.<br>\n",
    "Sample Input:<br>\n",
    "3<br>\n",
    "1<br>\n",
    "2<br>\n",
    "4<br>\n",
    "4<br>\n",
    "2<br>\n",
    "1<br>\n",
    "3<br>\n",
    "2<br>\n",
    "7<br>\n",
    "6<br>\n",
    "Sample Output:<br>\n",
    "2<br>\n",
    "2<br>\n",
    "5<br>\n",
    "Invalid Operation<br>\n",
    "Explanation of the sample input<br>\n",
    "The first number given is 3, so that means two more numbers will be given and we'll have to multiply them and show the result. <br>The two numbers are 1 and 2. Their product is 2, so 2 is displayed first in the output. Similarly, all the numbers are <br>processed in groups of three. The first number tells the operation and the next two numbers tell on which numbers the <br>operation is done. This applies to numbers from 1 to 5. If the input is 6 (like it is at the end), two more numbers will <br>NOT be provided, you simply have to exit the program. Also, if the input is any number except 1 to 6 (like 7 which is at <br>the second last), then you simply have to print \"Invalid Operation\""
   ]
  },
  {
   "cell_type": "code",
   "execution_count": 24,
   "id": "167e98d2",
   "metadata": {},
   "outputs": [
    {
     "name": "stdout",
     "output_type": "stream",
     "text": [
      "2\n",
      "5\n",
      "8\n",
      "-3\n",
      "6\n"
     ]
    }
   ],
   "source": [
    "while True:\n",
    "    n = int(input())\n",
    "    if n == 1 :\n",
    "        n1 = int(input())\n",
    "        n2 = int(input())\n",
    "        print(n1+n2)\n",
    "    elif n == 2 :\n",
    "        n1 = int(input())\n",
    "        n2 = int(input())\n",
    "        print(n1-n2)\n",
    "    elif n == 3 :\n",
    "        n1 = int(input())\n",
    "        n2 = int(input())\n",
    "        print(n1*n2)\n",
    "    elif n == 4 :\n",
    "        n1 = int(input())\n",
    "        n2 = int(input())\n",
    "        print(n1//n2)\n",
    "    elif n == 5 :\n",
    "        n1 = int(input())\n",
    "        n2 = int(input())\n",
    "        print(n1%n2)\n",
    "    elif n == 6 :\n",
    "        break\n",
    "    else:\n",
    "        print(\"Invalid Operation\")"
   ]
  },
  {
   "cell_type": "code",
   "execution_count": 27,
   "id": "5e3ca955",
   "metadata": {},
   "outputs": [
    {
     "data": {
      "text/plain": [
       "0"
      ]
     },
     "execution_count": 27,
     "metadata": {},
     "output_type": "execute_result"
    }
   ],
   "source": [
    "9//10\n"
   ]
  },
  {
   "cell_type": "markdown",
   "id": "331bc2c2",
   "metadata": {},
   "source": [
    "### Reverse of a number\n",
    "Write a program to generate the reverse of a given number N. Print the corresponding reverse number.<br>\n",
    "Note : If a number has trailing zeros, then its reverse will not include them. For e.g., reverse of 10400 will be 401 instead<br> of 00401.<br>\n",
    "\n",
    "\n",
    "Input format :<br>\n",
    "Integer N<br>\n",
    "Output format :<br>\n",
    "Corresponding reverse number<br>\n",
    "Constraints:<br>\n",
    "0 <= N < 10^8<br>\n",
    "Sample Input 1 :<br>\n",
    "1234<br>\n",
    "Sample Output 1 :<br>\n",
    "4321<br>\n",
    "Sample Input 2 :<br>\n",
    "1980<br>\n",
    "Sample Output 2 :<br>\n",
    "891<br>"
   ]
  },
  {
   "cell_type": "code",
   "execution_count": 31,
   "id": "048dca28",
   "metadata": {},
   "outputs": [
    {
     "name": "stdout",
     "output_type": "stream",
     "text": [
      "1980\n",
      "891\n"
     ]
    }
   ],
   "source": [
    "n = int(input())\n",
    "rev = 0\n",
    "while n>0:\n",
    "    rev = rev*10+(n%10)\n",
    "    n = n//10\n",
    "print(rev)"
   ]
  },
  {
   "cell_type": "markdown",
   "id": "f5540e12",
   "metadata": {},
   "source": [
    "### Palindrome number\n",
    "Write a program to determine if given number is palindrome or not. Print true if it is palindrome, false otherwise.<br>\n",
    "Palindrome are the numbers for which reverse is exactly same as the original one. For eg. 121<br>\n",
    "Sample Input 1 :<br>\n",
    "121<br>\n",
    "Sample Output 1 :<br>\n",
    "true<br>\n",
    "Sample Input 2 :<br>\n",
    "1032<br>\n",
    "Sample Output 2 :<br>\n",
    "false<br>"
   ]
  },
  {
   "cell_type": "code",
   "execution_count": 33,
   "id": "713af905",
   "metadata": {},
   "outputs": [
    {
     "name": "stdout",
     "output_type": "stream",
     "text": [
      "1032\n",
      "False\n"
     ]
    }
   ],
   "source": [
    "n = int(input())\n",
    "num = n\n",
    "rev = 0\n",
    "while n >0:\n",
    "    rev = rev*10+n%10\n",
    "    n = n//10\n",
    "if rev == num:\n",
    "    print(True)\n",
    "else:\n",
    "    print(False)"
   ]
  },
  {
   "cell_type": "markdown",
   "id": "b588468c",
   "metadata": {},
   "source": [
    "### Sum of even & odd\n",
    "Write a program to input an integer N and print the sum of all its even digits and sum of all its odd digits separately.<br>\n",
    "Digits mean numbers, not the places! That is, if the given integer is \"13245\", even digits are 2 & 4 and odd digits are 1, 3 &<br> 5.\n",
    "Input format :<br>\n",
    " Integer N<br>\n",
    "Output format :<br>\n",
    "Sum_of_Even_Digits Sum_of_Odd_Digits<br>\n",
    "(Print first even sum and then odd sum separated by space)<br>\n",
    "Constraints<br>\n",
    "0 <= N <= 10^8<br>\n",
    "Sample Input 1:<br>\n",
    "1234<br>\n",
    "Sample Output 1:<br>\n",
    "6 4<br>\n",
    "Sample Input 2:<br>\n",
    "552245<br>\n",
    "Sample Output 2:<br>\n",
    "8 15<br>\n",
    "Explanation for Input 2:<br>\n",
    "For the given input, the even digits are 2, 2 and 4 and if we take the sum of these digits it will come out to be 8(2 + 2 + 4)<br> and similarly, if we look at the odd digits, they are, 5, 5 and 5 which makes a sum of 15(5 + 5 + 5). Hence the answer <br>would be, 8(evenSum) <single space> 15(oddSum)<br>"
   ]
  },
  {
   "cell_type": "code",
   "execution_count": 37,
   "id": "3e04a8df",
   "metadata": {},
   "outputs": [
    {
     "name": "stdout",
     "output_type": "stream",
     "text": [
      "1234\n",
      "6 4\n"
     ]
    }
   ],
   "source": [
    "n = int(input())\n",
    "sum_of_even = 0\n",
    "sum_of_odd = 0\n",
    "while n > 0:\n",
    "    digit = n%10\n",
    "    if digit%2:\n",
    "        sum_of_even = sum_of_even+digit\n",
    "    else:\n",
    "        sum_of_odd = sum_of_odd +digit\n",
    "    n = n//10\n",
    "print(sum_of_odd,sum_of_even)"
   ]
  },
  {
   "cell_type": "code",
   "execution_count": null,
   "id": "8e7a807e",
   "metadata": {},
   "outputs": [],
   "source": []
  }
 ],
 "metadata": {
  "kernelspec": {
   "display_name": "Python 3 (ipykernel)",
   "language": "python",
   "name": "python3"
  },
  "language_info": {
   "codemirror_mode": {
    "name": "ipython",
    "version": 3
   },
   "file_extension": ".py",
   "mimetype": "text/x-python",
   "name": "python",
   "nbconvert_exporter": "python",
   "pygments_lexer": "ipython3",
   "version": "3.9.12"
  }
 },
 "nbformat": 4,
 "nbformat_minor": 5
}
