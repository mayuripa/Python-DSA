{
 "cells": [
  {
   "cell_type": "markdown",
   "id": "fac5a04f",
   "metadata": {},
   "source": [
    "## what is an list?<br>\n",
    "list is an data structure in python where we can store heterogenic data types into single entity.<br>\n",
    "## why do we need list?\n",
    "consider a situation to find a maximum value from 10 integer element.<br>\n",
    "To complete this task we have to create 10 seperate variables<br> and we need to check these all 10 variables to find the maximum.This is time and space consuming. \n"
   ]
  },
  {
   "cell_type": "markdown",
   "id": "64fe5b6e",
   "metadata": {},
   "source": [
    "## Creating of list.\n",
    "list are created with help of square brackets.\n"
   ]
  },
  {
   "cell_type": "code",
   "execution_count": 2,
   "id": "39b1de9d",
   "metadata": {},
   "outputs": [],
   "source": [
    "# creating of list\n",
    "li = [2,5,'smile',3.4]"
   ]
  },
  {
   "cell_type": "markdown",
   "id": "0e656be8",
   "metadata": {},
   "source": [
    "## Accesing the list elements.\n",
    "list can be accessed with the help of indexing in python.<br>\n",
    "Indexing start from 0 to n-1.<br>\n",
    "That is if there are 5 elements in the list then indexing start from 0 to 4.<br>\n",
    "\n"
   ]
  },
  {
   "cell_type": "code",
   "execution_count": 3,
   "id": "1d579417",
   "metadata": {},
   "outputs": [
    {
     "data": {
      "text/plain": [
       "2"
      ]
     },
     "execution_count": 3,
     "metadata": {},
     "output_type": "execute_result"
    }
   ],
   "source": [
    "# accesing the first elements of list.\n",
    "li[0]"
   ]
  },
  {
   "cell_type": "code",
   "execution_count": 4,
   "id": "4f030eb6",
   "metadata": {},
   "outputs": [
    {
     "data": {
      "text/plain": [
       "3.4"
      ]
     },
     "execution_count": 4,
     "metadata": {},
     "output_type": "execute_result"
    }
   ],
   "source": [
    "# accesing the last elements of list.\n",
    "li[3]"
   ]
  },
  {
   "cell_type": "markdown",
   "id": "3fdd9eea",
   "metadata": {},
   "source": [
    "## Updating the list elements.\n",
    "List are mutable data structres which means we can change the values of list after creating."
   ]
  },
  {
   "cell_type": "code",
   "execution_count": 5,
   "id": "fc6832c6",
   "metadata": {},
   "outputs": [],
   "source": [
    "li[0] = 'Mayuri'"
   ]
  },
  {
   "cell_type": "code",
   "execution_count": 6,
   "id": "24f66504",
   "metadata": {},
   "outputs": [
    {
     "data": {
      "text/plain": [
       "['Mayuri', 5, 'smile', 3.4]"
      ]
     },
     "execution_count": 6,
     "metadata": {},
     "output_type": "execute_result"
    }
   ],
   "source": [
    "li"
   ]
  },
  {
   "cell_type": "markdown",
   "id": "40802bdc",
   "metadata": {},
   "source": [
    "## Inserting elements into the existing list.\n",
    "There are three ways to insert the element into existing list<br>\n",
    "<t>  1)Insert element at last position.<br>\n",
    "<t>   2)Insert an element at specified index.<br>\n",
    "<t>   3)Insert more then one element at last of list.<br>"
   ]
  },
  {
   "cell_type": "code",
   "execution_count": 7,
   "id": "cc0e5554",
   "metadata": {},
   "outputs": [
    {
     "data": {
      "text/plain": [
       "['Mayuri', 5, 'smile', 3.4]"
      ]
     },
     "execution_count": 7,
     "metadata": {},
     "output_type": "execute_result"
    }
   ],
   "source": [
    "li"
   ]
  },
  {
   "cell_type": "code",
   "execution_count": 8,
   "id": "6ca46ed0",
   "metadata": {},
   "outputs": [
    {
     "data": {
      "text/plain": [
       "['Mayuri', 5, 'smile', 3.4, 11]"
      ]
     },
     "execution_count": 8,
     "metadata": {},
     "output_type": "execute_result"
    }
   ],
   "source": [
    "# Insert element at last position.\n",
    "li.append(11)\n",
    "li"
   ]
  },
  {
   "cell_type": "code",
   "execution_count": 9,
   "id": "6d03af64",
   "metadata": {},
   "outputs": [
    {
     "data": {
      "text/plain": [
       "['Mayuri', 5, 'two', 'smile', 3.4, 11]"
      ]
     },
     "execution_count": 9,
     "metadata": {},
     "output_type": "execute_result"
    }
   ],
   "source": [
    "# Insert element at specified index.\n",
    "li.insert(2,'two')\n",
    "li"
   ]
  },
  {
   "cell_type": "code",
   "execution_count": 10,
   "id": "d7b98786",
   "metadata": {},
   "outputs": [
    {
     "data": {
      "text/plain": [
       "['Mayuri', 5, 'two', 'smile', 3.4, 11, ' above index ']"
      ]
     },
     "execution_count": 10,
     "metadata": {},
     "output_type": "execute_result"
    }
   ],
   "source": [
    "li.insert(10,' above index ') # when we give a value more then the index it addes to the last index.\n",
    "li"
   ]
  },
  {
   "cell_type": "code",
   "execution_count": 11,
   "id": "c308f7a7",
   "metadata": {},
   "outputs": [],
   "source": [
    "# Inserting more then one value .\n",
    "li.extend([5,10,15])    # remeber that extend takes only single object ,so place the elements into another list."
   ]
  },
  {
   "cell_type": "code",
   "execution_count": 12,
   "id": "ef397cc7",
   "metadata": {},
   "outputs": [
    {
     "data": {
      "text/plain": [
       "['Mayuri', 5, 'two', 'smile', 3.4, 11, ' above index ', 5, 10, 15]"
      ]
     },
     "execution_count": 12,
     "metadata": {},
     "output_type": "execute_result"
    }
   ],
   "source": [
    "li"
   ]
  },
  {
   "cell_type": "code",
   "execution_count": 13,
   "id": "c5e05bd2",
   "metadata": {},
   "outputs": [],
   "source": [
    "ei = [6,12,18]\n",
    "li.extend(ei)"
   ]
  },
  {
   "cell_type": "code",
   "execution_count": 14,
   "id": "d73c203c",
   "metadata": {},
   "outputs": [
    {
     "data": {
      "text/plain": [
       "['Mayuri', 5, 'two', 'smile', 3.4, 11, ' above index ', 5, 10, 15, 6, 12, 18]"
      ]
     },
     "execution_count": 14,
     "metadata": {},
     "output_type": "execute_result"
    }
   ],
   "source": [
    "li"
   ]
  },
  {
   "cell_type": "markdown",
   "id": "0753b9dc",
   "metadata": {},
   "source": [
    "## Deleting element from the list.<br>\n",
    "There are two ways to delet the element from list<br>\n",
    "1)Delet specific element.<br>\n",
    "2)Delet with help of index value.<br>\n"
   ]
  },
  {
   "cell_type": "code",
   "execution_count": 15,
   "id": "b2f826a3",
   "metadata": {},
   "outputs": [
    {
     "data": {
      "text/plain": [
       "['Mayuri', 5, 'two', 'smile', 3.4, 11, ' above index ', 5, 10, 15, 6, 12, 18]"
      ]
     },
     "execution_count": 15,
     "metadata": {},
     "output_type": "execute_result"
    }
   ],
   "source": [
    "li"
   ]
  },
  {
   "cell_type": "code",
   "execution_count": 18,
   "id": "3b4617c8",
   "metadata": {},
   "outputs": [],
   "source": [
    "#Delet specfic value\n",
    "li.remove(' above index ')"
   ]
  },
  {
   "cell_type": "code",
   "execution_count": 19,
   "id": "8c8d0a34",
   "metadata": {},
   "outputs": [
    {
     "data": {
      "text/plain": [
       "['Mayuri', 5, 'two', 'smile', 3.4, 11, 5, 10, 15, 6, 12, 18]"
      ]
     },
     "execution_count": 19,
     "metadata": {},
     "output_type": "execute_result"
    }
   ],
   "source": [
    "li\n"
   ]
  },
  {
   "cell_type": "code",
   "execution_count": 20,
   "id": "998de800",
   "metadata": {},
   "outputs": [
    {
     "ename": "ValueError",
     "evalue": "list.remove(x): x not in list",
     "output_type": "error",
     "traceback": [
      "\u001b[1;31m---------------------------------------------------------------------------\u001b[0m",
      "\u001b[1;31mValueError\u001b[0m                                Traceback (most recent call last)",
      "Input \u001b[1;32mIn [20]\u001b[0m, in \u001b[0;36m<cell line: 1>\u001b[1;34m()\u001b[0m\n\u001b[1;32m----> 1\u001b[0m \u001b[43mli\u001b[49m\u001b[38;5;241;43m.\u001b[39;49m\u001b[43mremove\u001b[49m\u001b[43m(\u001b[49m\u001b[38;5;124;43m'\u001b[39;49m\u001b[38;5;124;43mGouri\u001b[39;49m\u001b[38;5;124;43m'\u001b[39;49m\u001b[43m)\u001b[49m\n",
      "\u001b[1;31mValueError\u001b[0m: list.remove(x): x not in list"
     ]
    }
   ],
   "source": [
    "li.remove('Gouri') # if the value is not found "
   ]
  },
  {
   "cell_type": "code",
   "execution_count": 41,
   "id": "604b8c8c",
   "metadata": {},
   "outputs": [],
   "source": [
    "li.insert(9,'two')"
   ]
  },
  {
   "cell_type": "code",
   "execution_count": 42,
   "id": "4cb8d189",
   "metadata": {},
   "outputs": [
    {
     "data": {
      "text/plain": [
       "['Mayuri', 'two', 'smile', 3.4, 11, 5, 10, 15, 6, 'two', 12]"
      ]
     },
     "execution_count": 42,
     "metadata": {},
     "output_type": "execute_result"
    }
   ],
   "source": [
    "li"
   ]
  },
  {
   "cell_type": "code",
   "execution_count": 43,
   "id": "dc456d56",
   "metadata": {},
   "outputs": [],
   "source": [
    "li.remove('two')  # when there are more then one same value then first occurence is deleted."
   ]
  },
  {
   "cell_type": "code",
   "execution_count": 44,
   "id": "e00bcc5a",
   "metadata": {},
   "outputs": [
    {
     "data": {
      "text/plain": [
       "['Mayuri', 'smile', 3.4, 11, 5, 10, 15, 6, 'two', 12]"
      ]
     },
     "execution_count": 44,
     "metadata": {},
     "output_type": "execute_result"
    }
   ],
   "source": [
    "li"
   ]
  },
  {
   "cell_type": "code",
   "execution_count": 21,
   "id": "f85bfd2c",
   "metadata": {},
   "outputs": [
    {
     "data": {
      "text/plain": [
       "5"
      ]
     },
     "execution_count": 21,
     "metadata": {},
     "output_type": "execute_result"
    }
   ],
   "source": [
    "# Delet with help of index\n",
    "li.pop(1)   # removes the value present at index 5 and the value deleted is given as output.\n"
   ]
  },
  {
   "cell_type": "code",
   "execution_count": 22,
   "id": "8e84c2f1",
   "metadata": {},
   "outputs": [
    {
     "ename": "IndexError",
     "evalue": "pop index out of range",
     "output_type": "error",
     "traceback": [
      "\u001b[1;31m---------------------------------------------------------------------------\u001b[0m",
      "\u001b[1;31mIndexError\u001b[0m                                Traceback (most recent call last)",
      "Input \u001b[1;32mIn [22]\u001b[0m, in \u001b[0;36m<cell line: 1>\u001b[1;34m()\u001b[0m\n\u001b[1;32m----> 1\u001b[0m \u001b[43mli\u001b[49m\u001b[38;5;241;43m.\u001b[39;49m\u001b[43mpop\u001b[49m\u001b[43m(\u001b[49m\u001b[38;5;241;43m11\u001b[39;49m\u001b[43m)\u001b[49m\n",
      "\u001b[1;31mIndexError\u001b[0m: pop index out of range"
     ]
    }
   ],
   "source": [
    "li.pop(11)    # if the index is not present."
   ]
  },
  {
   "cell_type": "code",
   "execution_count": 23,
   "id": "0151248e",
   "metadata": {},
   "outputs": [
    {
     "data": {
      "text/plain": [
       "18"
      ]
     },
     "execution_count": 23,
     "metadata": {},
     "output_type": "execute_result"
    }
   ],
   "source": [
    "li.pop()   # if no value is passed then the last index value is deleted."
   ]
  },
  {
   "cell_type": "code",
   "execution_count": 24,
   "id": "fc086f7b",
   "metadata": {},
   "outputs": [
    {
     "data": {
      "text/plain": [
       "['Mayuri', 'two', 'smile', 3.4, 11, 5, 10, 15, 6, 12]"
      ]
     },
     "execution_count": 24,
     "metadata": {},
     "output_type": "execute_result"
    }
   ],
   "source": [
    "li"
   ]
  },
  {
   "cell_type": "markdown",
   "id": "824ef707",
   "metadata": {},
   "source": [
    "## List slicing.\n",
    "Three methods <br>\n",
    "1) start index and end index is mentioned.<br>\n",
    "2) only start index is mentioned.<br>\n",
    "3) only end index is mentioned.<br>"
   ]
  },
  {
   "cell_type": "code",
   "execution_count": 25,
   "id": "cb3ce496",
   "metadata": {},
   "outputs": [
    {
     "data": {
      "text/plain": [
       "['Mayuri', 'two', 'smile', 3.4, 11, 5, 10, 15, 6, 12]"
      ]
     },
     "execution_count": 25,
     "metadata": {},
     "output_type": "execute_result"
    }
   ],
   "source": [
    "# start index and end index is mentioned.\n",
    "li"
   ]
  },
  {
   "cell_type": "code",
   "execution_count": 28,
   "id": "1b10d7ca",
   "metadata": {},
   "outputs": [
    {
     "data": {
      "text/plain": [
       "['two', 'smile', 3.4, 11]"
      ]
     },
     "execution_count": 28,
     "metadata": {},
     "output_type": "execute_result"
    }
   ],
   "source": [
    "li[1:5] # the output will always be (start index) to (end index-1)."
   ]
  },
  {
   "cell_type": "code",
   "execution_count": 29,
   "id": "b86293b3",
   "metadata": {},
   "outputs": [
    {
     "data": {
      "text/plain": [
       "['smile', 3.4, 11, 5, 10, 15, 6, 12]"
      ]
     },
     "execution_count": 29,
     "metadata": {},
     "output_type": "execute_result"
    }
   ],
   "source": [
    "# start index is mentioned.\n",
    "li[2:]    # when last index is not mentioned it goes till the last element."
   ]
  },
  {
   "cell_type": "code",
   "execution_count": 30,
   "id": "7575cfc6",
   "metadata": {},
   "outputs": [
    {
     "data": {
      "text/plain": [
       "['Mayuri', 'two', 'smile', 3.4]"
      ]
     },
     "execution_count": 30,
     "metadata": {},
     "output_type": "execute_result"
    }
   ],
   "source": [
    "li[:4]  # when start index is not mentioned it start from the index 0."
   ]
  },
  {
   "cell_type": "markdown",
   "id": "0ad6165c",
   "metadata": {},
   "source": [
    "## How are elements stored in the Lists?\n",
    "we start by creating a list have elements :<br>\n",
    "\n",
    "ls = [1, 2 , 'Manvendraaaa' , 1.2]<br>\n",
    "Length of list ls is 4 containg elements of integers , float , and string data types. <br>\n",
    "The elements in the list are not stored themselves. Instead, every element of the list is stored at random locations, and the <br>list stores the address of those random locations.<br>\n",
    "\n",
    "Suppose the elements of the list 'ls' are stored at random location with random address stated below in the format :<br>\n",
    "variable_name = value --> address of random location-->continueous memory <br>\n",
    "a = 1 --> 520 -->480<br>\n",
    "b = 2 --> 680 -->484<br>\n",
    "c = 'Manvendraaaa' --> 240-->488<br>\n",
    "d = 1.2 --> 980-->492<br>\n",
    "The list will hold these addresses and it will look something like :<br>\n",
    "ls = [520,680,240,980]<br>\n",
    "Note : The addresses are only for demostration in real they are hexadecimal values.<br>\n",
    "\n",
    "## Updating the element of list.\n",
    "\n",
    "So suppose we want to change the element 'Manvendraaaa' to 'Medium'. We know that the element is at index 2. So as soon as we<br>type the program to change it what happens in the backend. Let's see :<br>\n",
    "ls[2] = 'Medium' #Command to change the element to 'Medium'<br>\n",
    "The moment we execute this command a new random location will be created with the element 'Medium' stored there and now instead<br> of the variable 'c' pointing towards it will point towards the location where 'Medium' is stored as variable are immutable.<br>\n",
    "c = 'Medium' --> 460-->488<br>\n",
    "Now c stores the address of the location where 'Medium' is stored & the list 'ls' stores the location of c as list are mutable.<br> Keeping this in mind the array will look like : <br>\n",
    "ls = [520,680,460,980]<br>\n",
    "ls = [1, 2 , 'Medium' , 1.2]<br>\n",
    "\n",
    "\n",
    "## How is continuity of Lists maintained?\n",
    "\n",
    "Whenever we created the list ls with 4 elements we reserved a continuous block of memory which can store 4 elements consecutively. <br>\n",
    "The list we were having was : ls = [1, 2 , 'Medium' , 1.2]<br>\n",
    "Suppose now we want to store a new element 'Happy' at the end of the list 'ls'.\n",
    "variable_name = value --> address of random location-->continueous memory <br>\n",
    "a = 1 --> 520 -->480<br>\n",
    "b = 2 --> 680 -->484<br>\n",
    "c = 'Medium'--> 240-->488<br>\n",
    "d = 1.2 --> 980-->492<br>\n",
    "\n",
    "## Resizing of list\n",
    "So we can't be sure that there is an empty space<br> at the end of the list and for that reason python uses resizing for optimizing this problem. The moment we will use<br> append to add the element 'Happy' at the end of list :<br>\n",
    "ls.append('Happy')<br>\n",
    "So if there is no empty space at the end of the list 'ls' python will find a new block in the memory of double the size of the<br> list 'ls' and copy all the element of the list 'ls' into it and now 'ls' will point to that new list & then append the <br>new element at end at there is enough space for more new elements. This process is called Resizing of List and is used in<br> python because lists are dynamically allocated. Finallyour list will look like :<br>\n",
    "ls = [1, 2 , 'Medium' , 1.2 , 'Happy'] #With more spaces left<br>\n",
    "variable_name = value --> address of random location-->continueous memory <br>\n",
    "a = 1 --> 520 -->580<br>\n",
    "b = 2 --> 680 -->584<br>\n",
    "c = 'Manvendraaaa' --> 240-->588<br>\n",
    "d = 1.2 --> 980-->592<br>\n",
    "e = 'Happy'-->220-->596<br>\n"
   ]
  },
  {
   "cell_type": "markdown",
   "id": "7a7d2ba5",
   "metadata": {},
   "source": [
    "## looping on List\n",
    "Three ways to loop on the List.<br>\n",
    "1) Looping on the index of the list.<br>\n",
    "2) Looping on the element of the list.<br>\n",
    "3) Looping on the element of the list and slicing.<br>\n"
   ]
  },
  {
   "cell_type": "code",
   "execution_count": 45,
   "id": "ec04a1bd",
   "metadata": {},
   "outputs": [],
   "source": [
    "l1 = [2,3,4,5,3,6,9]"
   ]
  },
  {
   "cell_type": "code",
   "execution_count": 46,
   "id": "1585d0fd",
   "metadata": {},
   "outputs": [
    {
     "name": "stdout",
     "output_type": "stream",
     "text": [
      "2\n",
      "3\n",
      "4\n",
      "5\n",
      "3\n",
      "6\n",
      "9\n"
     ]
    }
   ],
   "source": [
    "# Looping on the index of the list.\n",
    "for i in range(len(l1)):   # not specifing the start of the list.\n",
    "    print(l1[i])\n",
    "    "
   ]
  },
  {
   "cell_type": "code",
   "execution_count": 47,
   "id": "bcbef330",
   "metadata": {},
   "outputs": [
    {
     "name": "stdout",
     "output_type": "stream",
     "text": [
      "4\n",
      "5\n",
      "3\n",
      "6\n",
      "9\n"
     ]
    }
   ],
   "source": [
    "# Looping on the index of the list.\n",
    "for j in range(2,len(l1)): # specifing the start of the List.\n",
    "    print(l1[j])"
   ]
  },
  {
   "cell_type": "code",
   "execution_count": 48,
   "id": "58b04f45",
   "metadata": {},
   "outputs": [
    {
     "name": "stdout",
     "output_type": "stream",
     "text": [
      "2\n",
      "3\n",
      "4\n",
      "5\n",
      "3\n",
      "6\n",
      "9\n"
     ]
    }
   ],
   "source": [
    "# Looping on the elements of the list.\n",
    "for ele in l1:\n",
    "    print(ele)"
   ]
  },
  {
   "cell_type": "code",
   "execution_count": 51,
   "id": "78fce3b1",
   "metadata": {},
   "outputs": [
    {
     "name": "stdout",
     "output_type": "stream",
     "text": [
      "4\n",
      "5\n",
      "3\n",
      "6\n",
      "9\n"
     ]
    }
   ],
   "source": [
    "# Looping on the elements of the list with slicing.\n",
    "for ele in l1[2:]:\n",
    "    print(ele)\n",
    "    "
   ]
  },
  {
   "cell_type": "code",
   "execution_count": 52,
   "id": "102fb140",
   "metadata": {},
   "outputs": [
    {
     "name": "stdout",
     "output_type": "stream",
     "text": [
      "5\n",
      "3\n",
      "6\n"
     ]
    }
   ],
   "source": [
    "for ele in l1[3:6]:\n",
    "    print(ele)"
   ]
  },
  {
   "cell_type": "markdown",
   "id": "27124028",
   "metadata": {},
   "source": [
    "## Negative indexing and sequencing\n"
   ]
  },
  {
   "cell_type": "code",
   "execution_count": 53,
   "id": "2b79c7ca",
   "metadata": {},
   "outputs": [
    {
     "data": {
      "text/plain": [
       "[2, 3, 4, 5, 3, 6, 9]"
      ]
     },
     "execution_count": 53,
     "metadata": {},
     "output_type": "execute_result"
    }
   ],
   "source": [
    "l1"
   ]
  },
  {
   "cell_type": "code",
   "execution_count": 54,
   "id": "a77fcb6f",
   "metadata": {},
   "outputs": [
    {
     "data": {
      "text/plain": [
       "9"
      ]
     },
     "execution_count": 54,
     "metadata": {},
     "output_type": "execute_result"
    }
   ],
   "source": [
    "l1[-1]"
   ]
  },
  {
   "cell_type": "code",
   "execution_count": 55,
   "id": "f38d0db9",
   "metadata": {},
   "outputs": [
    {
     "data": {
      "text/plain": [
       "3"
      ]
     },
     "execution_count": 55,
     "metadata": {},
     "output_type": "execute_result"
    }
   ],
   "source": [
    "l1[-2]"
   ]
  },
  {
   "cell_type": "code",
   "execution_count": 76,
   "id": "74991f6a",
   "metadata": {},
   "outputs": [
    {
     "data": {
      "text/plain": [
       "[3, 5, 6]"
      ]
     },
     "execution_count": 76,
     "metadata": {},
     "output_type": "execute_result"
    }
   ],
   "source": [
    "l1[1:6:2]"
   ]
  },
  {
   "cell_type": "code",
   "execution_count": 77,
   "id": "9c1dab78",
   "metadata": {},
   "outputs": [
    {
     "data": {
      "text/plain": [
       "[2, 4]"
      ]
     },
     "execution_count": 77,
     "metadata": {},
     "output_type": "execute_result"
    }
   ],
   "source": [
    "l1[:4:2]"
   ]
  },
  {
   "cell_type": "code",
   "execution_count": 78,
   "id": "6b9a24ce",
   "metadata": {},
   "outputs": [
    {
     "data": {
      "text/plain": [
       "[6, 3, 5, 4]"
      ]
     },
     "execution_count": 78,
     "metadata": {},
     "output_type": "execute_result"
    }
   ],
   "source": [
    "l1[5:1:-1]"
   ]
  },
  {
   "cell_type": "code",
   "execution_count": 79,
   "id": "db8b7ccc",
   "metadata": {},
   "outputs": [
    {
     "data": {
      "text/plain": [
       "[9, 6, 3, 5, 4, 3, 2]"
      ]
     },
     "execution_count": 79,
     "metadata": {},
     "output_type": "execute_result"
    }
   ],
   "source": [
    "l1[::-1]"
   ]
  }
 ],
 "metadata": {
  "kernelspec": {
   "display_name": "Python 3 (ipykernel)",
   "language": "python",
   "name": "python3"
  },
  "language_info": {
   "codemirror_mode": {
    "name": "ipython",
    "version": 3
   },
   "file_extension": ".py",
   "mimetype": "text/x-python",
   "name": "python",
   "nbconvert_exporter": "python",
   "pygments_lexer": "ipython3",
   "version": "3.9.12"
  }
 },
 "nbformat": 4,
 "nbformat_minor": 5
}
