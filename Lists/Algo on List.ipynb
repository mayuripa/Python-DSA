{
 "cells": [
  {
   "cell_type": "markdown",
   "id": "605b64fa",
   "metadata": {},
   "source": [
    "# Linear Search\n",
    "You have been given a  integer array/list(ARR) of size N and an element X. Write a function to search<br> this element in the given input array/list using 'Linear Search'. Return the index of the element in the input array/list. In<br> case the element is not present in the array/list, then return -1.<br>\n",
    "Input format :<br>\n",
    "The first line contains an Integer 'N' which denotes the size of the array/list.<br>\n",
    "\n",
    "Second line contains 'N' single space separated integers representing the elements in the array/list.<br>\n",
    "third line contains element X to be searched.\n",
    "Output Format :<br>\n",
    "For each test case, print the index at which X is present, -1 otherwise.<br>\n",
    "Sample Input 1:<br>\n",
    "7<br>\n",
    "1 3 7 9 11 12 45<br>\n",
    "3<br>\n",
    "Sample Output 1:<br>\n",
    "1<br>\n",
    "Sample Input 2:<br>\n",
    "7<br>\n",
    "1 2 3 4 5 6 7<br>\n",
    "7<br>\n",
    "Sample Output 2:<br>\n",
    "-1<br>\n"
   ]
  },
  {
   "cell_type": "code",
   "execution_count": 1,
   "id": "c60f149f",
   "metadata": {},
   "outputs": [],
   "source": [
    "def linear_search(arr,key):\n",
    "    for i in range(len(arr)):\n",
    "        if arr[i]==key:\n",
    "            return i\n",
    "    return -1"
   ]
  },
  {
   "cell_type": "code",
   "execution_count": 3,
   "id": "3a29f911",
   "metadata": {},
   "outputs": [
    {
     "data": {
      "text/plain": [
       "-1"
      ]
     },
     "execution_count": 3,
     "metadata": {},
     "output_type": "execute_result"
    }
   ],
   "source": [
    "linear_search([2,4,5,6,7],11)"
   ]
  },
  {
   "cell_type": "markdown",
   "id": "5a4cd7de",
   "metadata": {},
   "source": [
    "# Code Binary Search\n",
    "You have been given a sorted(in ascending order) integer array/list(ARR) of size N and an element X. Write a function to search<br> this element in the given input array/list using 'Binary Search'. Return the index of the element in the input array/list. In<br> case the element is not present in the array/list, then return -1.<br>\n",
    "Input format :<br>\n",
    "The first line contains an Integer 'N' which denotes the size of the array/list.<br>\n",
    "\n",
    "Second line contains 'N' single space separated integers representing the elements in the array/list.<br>\n",
    "third line contains element X to be searched.\n",
    "Output Format :<br>\n",
    "For each test case, print the index at which X is present, -1 otherwise.<br>\n",
    "Sample Input 1:<br>\n",
    "7<br>\n",
    "1 3 7 9 11 12 45<br>\n",
    "3<br>\n",
    "Sample Output 1:<br>\n",
    "1<br>\n",
    "Sample Input 2:<br>\n",
    "7<br>\n",
    "1 2 3 4 5 6 7<br>\n",
    "7<br>\n",
    "Sample Output 2:<br>\n",
    "-1<br>\n"
   ]
  },
  {
   "cell_type": "code",
   "execution_count": 1,
   "id": "94c0eff7",
   "metadata": {},
   "outputs": [],
   "source": [
    "def binarySearch(arr,key):\n",
    "    l = 0\n",
    "    u = len(arr)-1\n",
    "    while l <=u:\n",
    "        mid = (l+u)//2\n",
    "        if arr[mid] == key:\n",
    "            return mid\n",
    "        elif arr[mid]>key:\n",
    "            u = mid-1\n",
    "        else:\n",
    "            l = mid+1"
   ]
  },
  {
   "cell_type": "code",
   "execution_count": 2,
   "id": "1614ea3a",
   "metadata": {},
   "outputs": [
    {
     "data": {
      "text/plain": [
       "5"
      ]
     },
     "execution_count": 2,
     "metadata": {},
     "output_type": "execute_result"
    }
   ],
   "source": [
    "binarySearch([1,3,7,9,11,12,45],12)"
   ]
  },
  {
   "cell_type": "markdown",
   "id": "d78ca2d6",
   "metadata": {},
   "source": [
    "Now that you have learnt how to perform Binary Search, let us try<br>\n",
    "writing code for another edge case. Suppose your sorted array has<br>\n",
    "duplicate numbers.<br>\n",
    "For example, if the array is as follows: [1, 2, 2, 3, 3, 3, 4, 8, 9, 19, 19, 19]<br>\n",
    "Try writing the code for the following two cases.<br>\n",
    "1. Finding first occurrence of the given number.<br>\n",
    "2. Finding the last occurrence of the given number<br>"
   ]
  },
  {
   "cell_type": "code",
   "execution_count": 41,
   "id": "fab61e4a",
   "metadata": {},
   "outputs": [],
   "source": [
    "def Binary_search_dup(arr,key):\n",
    "    l = 0 \n",
    "    u = len(arr)-1\n",
    "    while l <= u:\n",
    "        mid = (l+u)//2\n",
    "        if arr[mid]==key:\n",
    "            first = mid-1\n",
    "            last = mid+1\n",
    "            while(first>=0 and arr[first]==key):\n",
    "                first = first-1\n",
    "            while(last<=len(arr)-1 and arr[last]==key):\n",
    "                last = last +1\n",
    "            print('First occurence is ',first+1)\n",
    "            print('Last occurence is ',last-1)\n",
    "            break\n",
    "        elif arr[mid] > key:\n",
    "            u = mid - 1\n",
    "        else:\n",
    "            l = mid+1\n",
    "    else:\n",
    "        print('Element not found')"
   ]
  },
  {
   "cell_type": "code",
   "execution_count": 49,
   "id": "30b39e86",
   "metadata": {},
   "outputs": [
    {
     "name": "stdout",
     "output_type": "stream",
     "text": [
      "First occurence is  11\n",
      "Last occurence is  13\n"
     ]
    }
   ],
   "source": [
    "Binary_search_dup([1,1,1, 2, 2, 3, 3, 3, 4, 8, 9, 19, 19, 19],19)"
   ]
  },
  {
   "cell_type": "markdown",
   "id": "97e5ac38",
   "metadata": {},
   "source": [
    "# Code Selection Sort\n",
    "Provided with a random integer array/list(ARR) of size N, you have been required to sort this array using 'Selection Sort'.<br>\n",
    " Note:<br>\n",
    "Change in the input array/list itself. You don't need to return or print the elements.<br>\n",
    "Input format :<br>\n",
    "First line of each test case or query contains an integer 'N' representing the size of the array/list.<br>\n",
    "\n",
    "Second line contains 'N' single space separated integers representing the elements in the array/list.<br>\n",
    "Output format :<br>\n",
    "For each test case, print the elements of the array/list in sorted order separated by a single space.<br>\n",
    "\n",
    "Sample Input 1:<br>\n",
    "7<br>\n",
    "2 13 4 1 3 6 28<br>\n",
    "Sample Output 1:<br>\n",
    "1 2 3 4 6 13 28<br>\n",
    "Sample Input 2:<br>\n",
    "5<br>\n",
    "9 3 6 2 0<br>\n",
    "\n",
    "Sample Output 2:<br>\n",
    "0 2 3 6 9<br>"
   ]
  },
  {
   "cell_type": "code",
   "execution_count": 7,
   "id": "26f75c66",
   "metadata": {},
   "outputs": [],
   "source": [
    "def selectionSort(arr):\n",
    "    for i in range(len(arr)-1):\n",
    "        index = i+1\n",
    "        for j in range(i+1,len(arr)):\n",
    "            if arr[j]<=arr[index]:\n",
    "                index = j\n",
    "        if arr[i]>arr[index]:\n",
    "            arr[i],arr[index]=arr[index],arr[i]\n",
    "    return arr\n",
    "            \n",
    "            "
   ]
  },
  {
   "cell_type": "code",
   "execution_count": 8,
   "id": "93cbd760",
   "metadata": {},
   "outputs": [
    {
     "data": {
      "text/plain": [
       "[-1, 1, 1, 2, 2, 4, 5, 7]"
      ]
     },
     "execution_count": 8,
     "metadata": {},
     "output_type": "execute_result"
    }
   ],
   "source": [
    "selectionSort([5,2,7,1,4,-1,1,2])"
   ]
  },
  {
   "cell_type": "markdown",
   "id": "3666b416",
   "metadata": {},
   "source": [
    "# Bubble sort\n",
    "Provided with a random integer array/list(ARR) of size N, you have been required to sort this array using 'Bubble Sort'.<br>\n",
    "Note:<br>\n",
    "Change in the input array/list itself. You don't need to return or print the elements.<br>\n",
    "Input format:<br>\n",
    "First line of each test case or query contains an integer 'N' representing the size of the array/list.<br>\n",
    "Second line contains 'N' single space separated integers representing the elements in the array/list.<br>\n",
    "\n",
    "Sample Input 1:<br>\n",
    "7<br>\n",
    "2 13 4 1 3 6 28<br>\n",
    "Sample Output 1:<br>\n",
    "1 2 3 4 6 13 28<br>\n",
    "Sample Input 2:<br>\n",
    "5<br>\n",
    "9 3 6 2 0<br>\n",
    "Sample Output 2:<br>\n",
    "0 2 3 6 9<br>\n",
    "Sample Input 3:<br>\n",
    "4<br>\n",
    "4 3 2 1<br>\n",
    "Sample Output 3:<br>\n",
    "1 2 3 4<br>"
   ]
  },
  {
   "cell_type": "code",
   "execution_count": 9,
   "id": "b3effd42",
   "metadata": {},
   "outputs": [],
   "source": [
    "def bubble_sort(arr,n):\n",
    "    for i in range(n):\n",
    "        for j in range(n-1):\n",
    "            if arr[j]>arr[j+1]:\n",
    "                arr[j],arr[j+1]=arr[j+1],arr[j]\n",
    "    return arr"
   ]
  },
  {
   "cell_type": "code",
   "execution_count": 59,
   "id": "ece9c5ed",
   "metadata": {},
   "outputs": [
    {
     "data": {
      "text/plain": [
       "[-1, 1, 1, 2, 2, 4, 5, 7]"
      ]
     },
     "execution_count": 59,
     "metadata": {},
     "output_type": "execute_result"
    }
   ],
   "source": [
    "bubble_sort([5,2,7,1,4,-1,1,2],8)"
   ]
  },
  {
   "cell_type": "markdown",
   "id": "f5acd50d",
   "metadata": {},
   "source": [
    "# Insertion Sort\n",
    "Provided with a random integer array/list(ARR) of size N, you have been required to sort this array using 'Insertion Sort'.<br>\n",
    " Note:<br>\n",
    "Change in the input array/list itself. You don't need to return or print the elements.<br>\n",
    " Input format :<br>\n",
    "First line of each test case or query contains an integer 'N' representing the size of the array/list.<br>\n",
    "Second line contains 'N' single space separated integers representing the elements in the array/list.<br>\n",
    "Output Format :<br>\n",
    "For each test case, print the elements of the array/list in sorted order separated by a single space.<br>\n",
    "Sample Input 1:<br>\n",
    "7<br>\n",
    "2 13 4 1 3 6 28<br>\n",
    "Sample Output 1:<br>\n",
    "1 2 3 4 6 13 28<br>\n",
    "Sample Input 2:<br>\n",
    "5<br>\n",
    "9 3 6 2 0<br>\n",
    "Sample Output 2:<br>\n",
    "0 2 3 6 9<br>\n"
   ]
  },
  {
   "cell_type": "code",
   "execution_count": 10,
   "id": "bcf2d6d9",
   "metadata": {},
   "outputs": [],
   "source": [
    "def insertionSort(arr):\n",
    "    for j in range(1,len(arr)):\n",
    "        i = j-1\n",
    "        k = j\n",
    "        while arr[k] <arr[i] and i >= 0:\n",
    "            arr[k],arr[i]=arr[i],arr[k]\n",
    "            i = i-1\n",
    "            k = k-1\n",
    "    return arr\n",
    "            \n",
    "        \n",
    "    "
   ]
  },
  {
   "cell_type": "code",
   "execution_count": 12,
   "id": "20d40155",
   "metadata": {},
   "outputs": [
    {
     "data": {
      "text/plain": [
       "[1, 2, 3, 4, 6, 13, 28]"
      ]
     },
     "execution_count": 12,
     "metadata": {},
     "output_type": "execute_result"
    }
   ],
   "source": [
    "insertionSort([2,13,4,1,3,6,28])"
   ]
  },
  {
   "cell_type": "markdown",
   "id": "edce6d81",
   "metadata": {},
   "source": [
    "# Code Merge Two Sorted Arrays\n",
    "You have been given two sorted arrays/lists(ARR1 and ARR2) of size N and M respectively, merge them into a third array/list <br>such that the third array is also sorted.<br>\n",
    "Input Format :<br>\n",
    "First line of each test case or query contains an integer 'N' representing the size of the first array/list.<br>\n",
    "Second line contains 'N' single space separated integers representing the elements of the first array/list.<br>\n",
    "Third line contains an integer 'M' representing the size of the second array/list.<br>\n",
    "Fourth line contains 'M' single space separated integers representing the elements of the second array/list.<br>\n",
    "Sample Input 1 :<br>\n",
    "5<br>\n",
    "1 3 4 7 11<br>\n",
    "4<br>\n",
    "2 4 6 13<br>\n",
    "Sample Output 1 :<br>\n",
    "1 2 3 4 4 6 7 11 13 <br>\n",
    "Sample Input 2 :<br>\n",
    "3<br>\n",
    "10 100 500<br>\n",
    "7<br>\n",
    "4 7 9 25 30 300 450<br>\n",
    "Sample Output 2 :<br>\n",
    "4 7 9 10 25 30 100 300 450 500<br>"
   ]
  },
  {
   "cell_type": "code",
   "execution_count": 89,
   "id": "32b4f0b2",
   "metadata": {},
   "outputs": [],
   "source": [
    "def mergeSorted(arr,n,arr1,n1):\n",
    "    arr3 = []\n",
    "    i = 0\n",
    "    j = 0\n",
    "    while i <= n-1 and j <= n1-1:\n",
    "        if arr1[j]>arr[i]:\n",
    "            arr3.append(arr[i])\n",
    "            i = i+1\n",
    "        else:\n",
    "            arr3.append(arr1[j])\n",
    "            j = j+1\n",
    "    while i<=n-1:\n",
    "        arr3.append(arr[i])\n",
    "        i = i+1\n",
    "    while j <=n1-1:\n",
    "        arr3.append(arr1[j])\n",
    "        j = j+1\n",
    "    return arr3"
   ]
  },
  {
   "cell_type": "code",
   "execution_count": 92,
   "id": "a699a69c",
   "metadata": {},
   "outputs": [
    {
     "data": {
      "text/plain": [
       "[1, 2, 3, 4, 5, 6, 7, 8, 9, 10]"
      ]
     },
     "execution_count": 92,
     "metadata": {},
     "output_type": "execute_result"
    }
   ],
   "source": [
    "mergeSorted([2,4,6,8,10],5,[1,3,5,7,9],5)"
   ]
  }
 ],
 "metadata": {
  "kernelspec": {
   "display_name": "Python 3 (ipykernel)",
   "language": "python",
   "name": "python3"
  },
  "language_info": {
   "codemirror_mode": {
    "name": "ipython",
    "version": 3
   },
   "file_extension": ".py",
   "mimetype": "text/x-python",
   "name": "python",
   "nbconvert_exporter": "python",
   "pygments_lexer": "ipython3",
   "version": "3.9.12"
  }
 },
 "nbformat": 4,
 "nbformat_minor": 5
}
