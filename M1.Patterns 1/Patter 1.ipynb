{
 "cells": [
  {
   "cell_type": "markdown",
   "id": "5bcb1dba",
   "metadata": {},
   "source": [
    "## Questions to ask before solving any pattern.\n",
    "1) how many Rows? <br>\n",
    "2) how many column for ith row?<br>\n",
    "3) what to print?  some time the content to print will be in function with N,i,j <br>\n"
   ]
  },
  {
   "cell_type": "markdown",
   "id": "967be0bf",
   "metadata": {},
   "source": [
    "## Square Pattern\n",
    "Print the following pattern for the given N number of rows.<br>\n",
    "Pattern for N = 4<br>\n",
    "4444<br>\n",
    "4444<br>\n",
    "4444<br>\n",
    "4444<br>\n",
    "Input format :<br>\n",
    "Integer N (Total no. of rows)<br>\n",
    "Output format :<br>\n",
    "Pattern in N lines<br>\n",
    "Constraints<br>\n",
    "0 <= N <= 50<br>\n",
    "Sample Input 1:<br>\n",
    "7\n",
    "Sample Output 1:<br>\n",
    "7777777<br>\n",
    "7777777<br>\n",
    "7777777<br>\n",
    "7777777<br>\n",
    "7777777<br>\n",
    "7777777<br>\n",
    "7777777<br>\n",
    "Sample Input 1:<br>\n",
    "6<br>\n",
    "Sample Output 1:<br>\n",
    "666666<br>\n",
    "666666<br>\n",
    "666666<br>\n",
    "666666<br>\n",
    "666666<br>\n",
    "666666<br>"
   ]
  },
  {
   "cell_type": "code",
   "execution_count": 7,
   "id": "68558afa",
   "metadata": {},
   "outputs": [
    {
     "name": "stdout",
     "output_type": "stream",
     "text": [
      "6\n",
      "666666\n",
      "666666\n",
      "666666\n",
      "666666\n",
      "666666\n",
      "666666\n"
     ]
    }
   ],
   "source": [
    "N = int(input())\n",
    "i = 1\n",
    "while i <= N:\n",
    "    j = 1\n",
    "    while j <= N:\n",
    "        print(N,end='')\n",
    "        j = j+1\n",
    "    print()\n",
    "    i = i+1"
   ]
  },
  {
   "cell_type": "markdown",
   "id": "67d825e3",
   "metadata": {},
   "source": [
    "Print the following pattern for the given N number of rows.<br>\n",
    "Pattern for N = 4<br>\n",
    "1111<br>\n",
    "2222<br>\n",
    "3333<br>\n",
    "4444<br>\n",
    "Input format :<br>\n",
    "Integer N (Total no. of rows)<br>\n",
    "Output format :<br>\n",
    "Pattern in N lines<br>\n",
    "Constraints<br>\n",
    "0 <= N <= 50<br>\n",
    "Sample Input 1:<br>\n",
    "7\n",
    "Sample Output 1:<br>\n",
    "1111111<br>\n",
    "2222222<br>\n",
    "3333333<br>\n",
    "4444444<br>\n",
    "5555555<br>\n",
    "6666666<br>\n",
    "7777777<br>\n",
    "Sample Input 1:<br>\n",
    "4<br>\n",
    "Sample Output 1:<br>\n",
    "1111<br>\n",
    "2222<br>\n",
    "3333<br>\n",
    "4444<br>"
   ]
  },
  {
   "cell_type": "code",
   "execution_count": 8,
   "id": "1c94175c",
   "metadata": {},
   "outputs": [
    {
     "name": "stdout",
     "output_type": "stream",
     "text": [
      "4\n",
      "1111\n",
      "2222\n",
      "3333\n",
      "4444\n"
     ]
    }
   ],
   "source": [
    "N = int(input())\n",
    "i = 1\n",
    "while i <= N:\n",
    "    j =1\n",
    "    while j <=N:\n",
    "        print(i,end='')\n",
    "        j = j+1\n",
    "    print()\n",
    "    i = i+1\n",
    "    "
   ]
  },
  {
   "cell_type": "markdown",
   "id": "cbffcd92",
   "metadata": {},
   "source": [
    "Print the following pattern for the given N number of rows.<br>\n",
    "Pattern for N = 4<br>\n",
    "1234<br>\n",
    "1234<br>\n",
    "1234<br>\n",
    "1234<br>\n",
    "Input format :<br>\n",
    "Integer N (Total no. of rows)<br>\n",
    "Output format :<br>\n",
    "Pattern in N lines<br>\n",
    "Constraints<br>\n",
    "0 <= N <= 50<br>\n",
    "Sample Input 1:<br>\n",
    "7\n",
    "Sample Output 1:<br>\n",
    "1234567<br>\n",
    "1234567<br>\n",
    "1234567<br>\n",
    "1234567<br>\n",
    "1234567<br>\n",
    "1234567<br>\n",
    "1234567<br>\n",
    "\n",
    "Sample Input 1:<br>\n",
    "4<br>\n",
    "Sample Output 1:<br>\n",
    "1234<br>\n",
    "1234<br>\n",
    "1234<br>\n",
    "1234<br>\n"
   ]
  },
  {
   "cell_type": "code",
   "execution_count": 9,
   "id": "a985b2d5",
   "metadata": {},
   "outputs": [
    {
     "name": "stdout",
     "output_type": "stream",
     "text": [
      "4\n",
      "1234\n",
      "1234\n",
      "1234\n",
      "1234\n"
     ]
    }
   ],
   "source": [
    "N = int(input())\n",
    "i = 1\n",
    "while i <= N:\n",
    "    j = 1\n",
    "    while j <= N:\n",
    "        print(j,end='')\n",
    "        j = j+1\n",
    "    print()\n",
    "    i = i+1"
   ]
  },
  {
   "cell_type": "markdown",
   "id": "aa35c3d8",
   "metadata": {},
   "source": [
    "Print the following pattern for the given N number of rows.<br>\n",
    "Pattern for N = 4<br>\n",
    "4321<br>\n",
    "4321<br>\n",
    "4321<br>\n",
    "4321<br>\n",
    "Input format :<br>\n",
    "Integer N (Total no. of rows)<br>\n",
    "Output format :<br>\n",
    "Pattern in N lines<br>\n",
    "Constraints<br>\n",
    "0 <= N <= 50<br>\n",
    "Sample Input 1:<br>\n",
    "7\n",
    "Sample Output 1:<br>\n",
    "7654321<br>\n",
    "7654321<br>\n",
    "7654321<br>\n",
    "7654321<br>\n",
    "7654321<br>\n",
    "7654321<br>\n",
    "7654321<br>\n",
    "\n",
    "Sample Input 1:<br>\n",
    "3<br>\n",
    "Sample Output 1:<br>\n",
    "321<br>\n",
    "321<br>\n",
    "321<br>\n",
    "\n",
    "\n",
    "\n",
    "\n"
   ]
  },
  {
   "cell_type": "code",
   "execution_count": 10,
   "id": "5fc279ae",
   "metadata": {},
   "outputs": [
    {
     "name": "stdout",
     "output_type": "stream",
     "text": [
      "3\n",
      "321\n",
      "321\n",
      "321\n"
     ]
    }
   ],
   "source": [
    "N = int(input())\n",
    "i = 1\n",
    "while i <=N:\n",
    "    j =0\n",
    "    while j<N:\n",
    "        print(N-j,end='')\n",
    "        j = j+1\n",
    "    print()\n",
    "    i = i+1"
   ]
  },
  {
   "cell_type": "markdown",
   "id": "c2969d00",
   "metadata": {},
   "source": [
    "## Triangular Pattern\n",
    "Print the following pattern for the given N number of rows.<br>\n",
    "Pattern for N = 4<br>\n",
    "1<br>\n",
    "12<br>\n",
    "123<br>\n",
    "1234<br>\n",
    "Input format :<br>\n",
    "Integer N (Total no. of rows)<br>\n",
    "Output format :<br>\n",
    "Pattern in N lines<br>\n",
    "Constraints<br>\n",
    "0 <= N <= 50<br>\n",
    "Sample Input 1:<br>\n",
    "7\n",
    "Sample Output 1:<br>\n",
    "1<br>\n",
    "12<br>\n",
    "123<br>\n",
    "1234<br>\n",
    "12345<br>\n",
    "123456<br>\n",
    "1234567<br>\n",
    "Sample Input 1:<br>\n",
    "3<br>\n",
    "Sample Output 1:<br>\n",
    "1<br>\n",
    "12<br>\n",
    "123<br>\n",
    "\n"
   ]
  },
  {
   "cell_type": "code",
   "execution_count": 12,
   "id": "acd77d92",
   "metadata": {},
   "outputs": [
    {
     "name": "stdout",
     "output_type": "stream",
     "text": [
      "7\n",
      "1\n",
      "12\n",
      "123\n",
      "1234\n",
      "12345\n",
      "123456\n",
      "1234567\n"
     ]
    }
   ],
   "source": [
    "N = int(input())\n",
    "i = 1\n",
    "while i <= N:\n",
    "    j = 1\n",
    "    while j <=i:\n",
    "        print(j,end=\"\")\n",
    "        j = j+1\n",
    "    print()\n",
    "    i = i+1"
   ]
  },
  {
   "cell_type": "markdown",
   "id": "99600036",
   "metadata": {},
   "source": [
    "Print the following pattern for the given N number of rows.<br>\n",
    "Pattern for N = 4<br>\n",
    "1<br>\n",
    "23<br>\n",
    "345<br>\n",
    "4567<br>\n",
    "Input format :<br>\n",
    "Integer N (Total no. of rows)<br>\n",
    "Output format :<br>\n",
    "Pattern in N lines<br>\n",
    "Constraints<br>\n",
    "0 <= N <= 50<br>\n",
    "Sample Input 1:<br>\n",
    "7\n",
    "Sample Output 1:<br>\n",
    "1<br>\n",
    "23<br>\n",
    "345<br>\n",
    "4567<br>\n",
    "56789<br>\n",
    "67891011<br>\n",
    "789101112<br>\n",
    "Sample Input 1:<br>\n",
    "3<br>\n",
    "Sample Output 1:<br>\n",
    "1<br>\n",
    "23<br>\n",
    "345<br>\n"
   ]
  },
  {
   "cell_type": "code",
   "execution_count": 15,
   "id": "ca7e6363",
   "metadata": {},
   "outputs": [
    {
     "name": "stdout",
     "output_type": "stream",
     "text": [
      "7\n",
      "1\n",
      "23\n",
      "345\n",
      "4567\n",
      "56789\n",
      "67891011\n",
      "78910111213\n"
     ]
    }
   ],
   "source": [
    "N = int(input())\n",
    "i = 1\n",
    "while i <= N:\n",
    "    j = 0\n",
    "    while j <i:\n",
    "        print(i+j,end='')\n",
    "        j = j+1\n",
    "    print()\n",
    "    i = i+1\n",
    "    "
   ]
  },
  {
   "cell_type": "markdown",
   "id": "800fc545",
   "metadata": {},
   "source": [
    "Print the following pattern for the given N number of rows.<br>\n",
    "Pattern for N = 4<br>\n",
    "1<br>\n",
    "23<br>\n",
    "456<br>\n",
    "6789<br>\n",
    "Input format :<br>\n",
    "Integer N (Total no. of rows)<br>\n",
    "Output format :<br>\n",
    "Pattern in N lines<br>\n",
    "Constraints<br>\n",
    "0 <= N <= 50<br>\n",
    "Sample Input 1:<br>\n",
    "5\n",
    "Sample Output 1:<br>\n",
    "1<br>\n",
    "23<br>\n",
    "456<br>\n",
    "78910<br>\n",
    "1112131415<br>\n",
    "Sample Input 1:<br>\n",
    "3<br>\n",
    "Sample Output 1:<br>\n",
    "1<br>\n",
    "23<br>\n",
    "456<br>\n"
   ]
  },
  {
   "cell_type": "code",
   "execution_count": 18,
   "id": "8799cb6a",
   "metadata": {},
   "outputs": [
    {
     "name": "stdout",
     "output_type": "stream",
     "text": [
      "5\n",
      "1\n",
      "23\n",
      "456\n",
      "78910\n",
      "1112131415\n"
     ]
    }
   ],
   "source": [
    "N = int(input())\n",
    "i = 1\n",
    "p =1\n",
    "while i <= N:\n",
    "    j = 1\n",
    "    while j <= i:\n",
    "        print(p,end = '')\n",
    "        p =p+1\n",
    "        j = j+1\n",
    "    print()\n",
    "    i = i+1\n",
    "    "
   ]
  },
  {
   "cell_type": "markdown",
   "id": "c608ac86",
   "metadata": {},
   "source": [
    "Print the following pattern for the given N number of rows.<br>\n",
    "Pattern for N = 4<br>\n",
    "*<br>\n",
    "** <br>\n",
    "*** <br>\n",
    "**** <br>\n",
    "Input format :<br>\n",
    "Integer N (Total no. of rows)<br>\n",
    "Output format :<br>\n",
    "Pattern in N lines<br>\n",
    "Constraints<br>\n",
    "0 <= N <= 50<br>\n",
    "Sample Input 1:<br>\n",
    "5\n",
    "Sample Output 1:<br>\n",
    "*<br>\n",
    "**<br>\n",
    "***<br>\n",
    "****<br>\n",
    "*****<br>\n",
    "Sample Input 1:<br>\n",
    "3<br>\n",
    "Sample Output 1:<br>\n",
    "*<br>\n",
    "**<br>\n",
    "***<br>"
   ]
  },
  {
   "cell_type": "code",
   "execution_count": 20,
   "id": "e2c441d8",
   "metadata": {},
   "outputs": [
    {
     "name": "stdout",
     "output_type": "stream",
     "text": [
      "5\n",
      "*\n",
      "**\n",
      "***\n",
      "****\n",
      "*****\n"
     ]
    }
   ],
   "source": [
    "N = int(input())\n",
    "i = 1\n",
    "while i <= N:\n",
    "    j = 1\n",
    "    while j <=i:\n",
    "        print('*',end = '')\n",
    "        j = j+1\n",
    "    print()\n",
    "    i = i+1"
   ]
  },
  {
   "cell_type": "markdown",
   "id": "1d566543",
   "metadata": {},
   "source": [
    "Print the following pattern for the given N number of rows.<br>\n",
    "Pattern for N = 4<br>\n",
    "1<br>\n",
    "22<br>\n",
    "333<br>\n",
    "4444<br>\n",
    "Input format :<br>\n",
    "Integer N (Total no. of rows)<br>\n",
    "Output format :<br>\n",
    "Pattern in N lines<br>\n",
    "Constraints<br>\n",
    "0 <= N <= 50<br>\n",
    "Sample Input 1:<br>\n",
    "5<br>\n",
    "Sample Output 1:<br>\n",
    "1<br>\n",
    "22<br>\n",
    "333<br>\n",
    "4444<br>\n",
    "55555<br>\n",
    "Sample Input 2:<br>\n",
    "6<br>\n",
    "Sample Output 2:<br>\n",
    "1<br>\n",
    "22<br>\n",
    "333<br>\n",
    "4444<br>\n",
    "55555<br>\n",
    "666666<br>"
   ]
  },
  {
   "cell_type": "code",
   "execution_count": 22,
   "id": "94e08447",
   "metadata": {},
   "outputs": [
    {
     "name": "stdout",
     "output_type": "stream",
     "text": [
      "4\n",
      "1\n",
      "22\n",
      "333\n",
      "4444\n"
     ]
    }
   ],
   "source": [
    "N = int(input())\n",
    "i = 1\n",
    "while i <=N:\n",
    "    j = 1\n",
    "    while j <= i:\n",
    "        print(i,end='')\n",
    "        j =j+1\n",
    "    print()\n",
    "    i =i+1"
   ]
  },
  {
   "cell_type": "markdown",
   "id": "59200182",
   "metadata": {},
   "source": [
    "Print the following pattern for the given N number of rows.<br>\n",
    "Pattern for N = 4<br>\n",
    "1<br>\n",
    "21<br>\n",
    "321<br>\n",
    "4321<br>\n",
    "Input format :<br>\n",
    "Integer N (Total no. of rows)<br>\n",
    "Output format :<br>\n",
    "Pattern in N lines<br>\n",
    "Constraints<br>\n",
    "0 <= N <= 50<br>\n",
    "Sample Input 1:<br>\n",
    "5<br>\n",
    "Sample Output 1:<br>\n",
    "1<br>\n",
    "21<br>\n",
    "321<br>\n",
    "4321<br>\n",
    "54321<br>\n",
    "Sample Input 2:<br>\n",
    "6<br>\n",
    "Sample Output 2:<br>\n",
    "1<br>\n",
    "21<br>\n",
    "321<br>\n",
    "4321<br>\n",
    "54321<br>\n",
    "654321<br>"
   ]
  },
  {
   "cell_type": "code",
   "execution_count": 23,
   "id": "217b6561",
   "metadata": {},
   "outputs": [
    {
     "name": "stdout",
     "output_type": "stream",
     "text": [
      "5\n",
      "1\n",
      "21\n",
      "321\n",
      "4321\n",
      "54321\n"
     ]
    }
   ],
   "source": [
    "N =int(input())\n",
    "i = 1\n",
    "while i <=N:\n",
    "    j = 1\n",
    "    p = i\n",
    "    while j <= i:\n",
    "        print(p,end='')\n",
    "        p = p-1\n",
    "        j = j+1\n",
    "    print()\n",
    "    i=i+1\n",
    "    "
   ]
  },
  {
   "cell_type": "markdown",
   "id": "3e684ff4",
   "metadata": {},
   "source": [
    "Print the following pattern for the given N number of rows.<br>\n",
    "Pattern for N = 4<br>\n",
    "1<br>\n",
    "11<br>\n",
    "111<br>\n",
    "1111<br>\n",
    "Input format :<br>\n",
    "Integer N (Total no. of rows)<br>\n",
    "Output format :<br>\n",
    "Pattern in N lines<br>\n",
    "Sample Input :<br>\n",
    "5<br>\n",
    "Sample Output :<br>\n",
    "1<br>\n",
    "11<br>\n",
    "111<br>\n",
    "1111<br>\n",
    "11111<br>"
   ]
  },
  {
   "cell_type": "code",
   "execution_count": 25,
   "id": "9824a126",
   "metadata": {},
   "outputs": [
    {
     "name": "stdout",
     "output_type": "stream",
     "text": [
      "4\n",
      "1\n",
      "11\n",
      "111\n",
      "1111\n"
     ]
    }
   ],
   "source": [
    "N = int(input())\n",
    "i = 1\n",
    "while i <=N:\n",
    "    j = 1\n",
    "    while j <= i:\n",
    "        print(1,end=\"\")\n",
    "        j = j+1\n",
    "    print()\n",
    "    i = i+1"
   ]
  },
  {
   "cell_type": "markdown",
   "id": "1e2a5b21",
   "metadata": {},
   "source": [
    "Print the following pattern for the given N number of rows.<br>\n",
    "Pattern for N = 4<br>\n",
    "1<br>\n",
    "11<br>\n",
    "202<br>\n",
    "3003<br>\n",
    "Input format :<br>\n",
    "Integer N (Total no. of rows)<br>\n",
    "Contraints:<br>\n",
    "1 <= n <= 50<br>\n",
    "Output format :<br>\n",
    "Pattern in N lines<br>\n",
    "Sample Input :<br>\n",
    "5<br>\n",
    "Sample Output :<br>\n",
    "1<br>\n",
    "11<br>\n",
    "202<br>\n",
    "3003<br>\n",
    "40004<br>"
   ]
  },
  {
   "cell_type": "code",
   "execution_count": 27,
   "id": "1ec50b01",
   "metadata": {},
   "outputs": [
    {
     "name": "stdout",
     "output_type": "stream",
     "text": [
      "5\n",
      "1\n",
      "11\n",
      "202\n",
      "3003\n",
      "40004\n"
     ]
    }
   ],
   "source": [
    "N = int(input())\n",
    "print(1)\n",
    "i = 1\n",
    "while i <N:\n",
    "    j=1\n",
    "    while j <= i+1:\n",
    "        if (j == 1) or (j==i+1):\n",
    "            print(i,end='')\n",
    "            j = j+1\n",
    "        else:\n",
    "            print(0,end='')\n",
    "            j=j+1\n",
    "    print()\n",
    "    i = i+1"
   ]
  },
  {
   "cell_type": "markdown",
   "id": "ce5201fb",
   "metadata": {},
   "source": [
    "Print the following pattern for the given N number of rows.<br>\n",
    "Pattern for N = 4<br>\n",
    "1<br>\n",
    "11<br>\n",
    "121<br>\n",
    "1221<br>\n",
    "Input format :<br>\n",
    "Integer N (Total no. of rows)<br>\n",
    "Output format :<br>\n",
    "Pattern in N lines<br>\n",
    "Sample Input :<br>\n",
    "5<br>\n",
    "Sample Output :<br>\n",
    "1<br>\n",
    "11<br>\n",
    "121<br>\n",
    "1221<br>\n",
    "12221<br>"
   ]
  },
  {
   "cell_type": "code",
   "execution_count": 29,
   "id": "ebef444a",
   "metadata": {},
   "outputs": [
    {
     "name": "stdout",
     "output_type": "stream",
     "text": [
      "5\n",
      "1\n",
      "11\n",
      "121\n",
      "1221\n",
      "12221\n"
     ]
    }
   ],
   "source": [
    "N = int(input())\n",
    "print(1)\n",
    "i = 1\n",
    "while i <N:\n",
    "    j =1\n",
    "    while j <=i+1:\n",
    "        if (j == 1) or (j == i+1):\n",
    "            print(1,end='')\n",
    "            j=j+1\n",
    "        else:\n",
    "            print(2,end='')\n",
    "            j=j+1\n",
    "    print()\n",
    "    i = i+1\n",
    "            "
   ]
  },
  {
   "cell_type": "markdown",
   "id": "7c13da2f",
   "metadata": {},
   "source": [
    "Print the following pattern for the given N number of rows.<br>\n",
    "Pattern for N = 4<br>\n",
    "1234<br>\n",
    "123<br>\n",
    "12<br>\n",
    "1<br>\n",
    "Input format :<br>\n",
    "Integer N (Total no. of rows)<br>\n",
    "Output format :<br>\n",
    "Pattern in N lines<br>\n",
    "Sample Input :<br>\n",
    "5<br>\n",
    "Sample Output :<br>\n",
    "12345<br>\n",
    "1234<br>\n",
    "123<br>\n",
    "12<br>\n",
    "1<br>"
   ]
  },
  {
   "cell_type": "code",
   "execution_count": 33,
   "id": "9b4e905c",
   "metadata": {},
   "outputs": [
    {
     "name": "stdout",
     "output_type": "stream",
     "text": [
      "5\n",
      "12345\n",
      "1234\n",
      "123\n",
      "12\n",
      "1\n"
     ]
    }
   ],
   "source": [
    "N = int(input())\n",
    "i = 1\n",
    "while i <=N:\n",
    "    j =1\n",
    "    while j <=(N-i+1):\n",
    "        print(j,end='')\n",
    "        j = j+1\n",
    "    print()\n",
    "    i = i+1\n",
    "    "
   ]
  },
  {
   "cell_type": "markdown",
   "id": "e6d554f6",
   "metadata": {},
   "source": [
    "### Alpha Patterns\n",
    "Print the following pattern for the given N number of rows.<br>\n",
    "Pattern for N = 3\n",
    "\n",
    " A<br>\n",
    " BB<br>\n",
    " CCC<br>\n",
    "Input format :<br>\n",
    "Integer N (Total no. of rows)<br>\n",
    "Output format :<br>\n",
    "Pattern in N lines<br>\n",
    "Constraints<br>\n",
    "0 <= N <= 26<br>\n",
    "Sample Input 1:<br>\n",
    "7<br>\n",
    "Sample Output 1:<br>\n",
    "A<br>\n",
    "BB<br>\n",
    "CCC<br>\n",
    "DDDD<br>\n",
    "EEEEE<br>\n",
    "FFFFFF<br>\n",
    "GGGGGGG<br>\n",
    "Sample Input 2:<br>\n",
    "6<br>\n",
    "Sample Output 2:<br>\n",
    "A<br>\n",
    "BB<br>\n",
    "CCC<br>\n",
    "DDDD<br>\n",
    "EEEEE<br>\n",
    "FFFFFF<br>"
   ]
  },
  {
   "cell_type": "code",
   "execution_count": 34,
   "id": "d1c8e742",
   "metadata": {},
   "outputs": [
    {
     "data": {
      "text/plain": [
       "65"
      ]
     },
     "execution_count": 34,
     "metadata": {},
     "output_type": "execute_result"
    }
   ],
   "source": [
    "ord('A')"
   ]
  },
  {
   "cell_type": "code",
   "execution_count": 35,
   "id": "a93c4bbc",
   "metadata": {},
   "outputs": [
    {
     "data": {
      "text/plain": [
       "'A'"
      ]
     },
     "execution_count": 35,
     "metadata": {},
     "output_type": "execute_result"
    }
   ],
   "source": [
    "chr(65)"
   ]
  },
  {
   "cell_type": "code",
   "execution_count": 36,
   "id": "2e47171b",
   "metadata": {},
   "outputs": [
    {
     "name": "stdout",
     "output_type": "stream",
     "text": [
      "3\n",
      "A\n",
      "BB\n",
      "CCC\n"
     ]
    }
   ],
   "source": [
    "N = int(input())\n",
    "i = 1\n",
    "while i <=N:\n",
    "    j= 1\n",
    "    while j <= i:\n",
    "        print(chr(64+i),end='')\n",
    "        j = j+1\n",
    "    print()\n",
    "    i =i+1"
   ]
  },
  {
   "cell_type": "markdown",
   "id": "89851e7e",
   "metadata": {},
   "source": [
    "Print the following pattern for the given N number of rows.<br>\n",
    "Pattern for N = 3\n",
    "\n",
    " ABC<br>\n",
    " ABC<br>\n",
    " ABC<br>\n",
    "Input format :<br>\n",
    "Integer N (Total no. of rows)<br>\n",
    "Output format :<br>\n",
    "Pattern in N lines<br>\n",
    "Constraints<br>\n",
    "0 <= N <= 26<br>\n",
    "Sample Input 1:<br>\n",
    "7<br>\n",
    "Sample Output 1:<br>\n",
    "ABCDEFG<br>\n",
    "ABCDEFG<br>\n",
    "ABCDEFG<br>\n",
    "ABCDEFG<br>\n",
    "ABCDEFG<br>\n",
    "ABCDEFG<br>\n",
    "ABCDEFG<br>\n",
    "Sample Input 2:<br>\n",
    "6<br>\n",
    "Sample Output 2:<br>\n",
    "ABCDEF<br>\n",
    "ABCDEF<br>\n",
    "ABCDEF<br>\n",
    "ABCDEF<br>\n",
    "ABCDEF<br>\n",
    "ABCDEF<br>"
   ]
  },
  {
   "cell_type": "code",
   "execution_count": 38,
   "id": "342e42bb",
   "metadata": {},
   "outputs": [
    {
     "name": "stdout",
     "output_type": "stream",
     "text": [
      "6\n",
      "ABCDEF\n",
      "ABCDEF\n",
      "ABCDEF\n",
      "ABCDEF\n",
      "ABCDEF\n",
      "ABCDEF\n"
     ]
    }
   ],
   "source": [
    "N = int(input())\n",
    "i = 1\n",
    "while i <= N:\n",
    "    j =1\n",
    "    while j <=N:\n",
    "        print(chr(64+j),end='')\n",
    "        j = j+1\n",
    "    print()\n",
    "    i = i+1\n",
    "        "
   ]
  },
  {
   "cell_type": "markdown",
   "id": "284215db",
   "metadata": {},
   "source": [
    "Print the following pattern for the given N number of rows.<br>\n",
    "Pattern for N = 3\n",
    "\n",
    " ABC<br>\n",
    " BCD<br>\n",
    " CDE<br>\n",
    "Input format :<br>\n",
    "Integer N (Total no. of rows)<br>\n",
    "Output format :<br>\n",
    "Pattern in N lines<br>\n",
    "Constraints<br>\n",
    "0 <= N <= 26<br>\n",
    "Sample Input 1:<br>\n",
    "7<br>\n",
    "Sample Output 1:<br>\n",
    "ABCDEFG<br>\n",
    "BCDEFGH<br>\n",
    "CDEFGHI<br>\n",
    "DEFGHIJ<br>\n",
    "EFGHIJK<br>\n",
    "FGHIJKL<br>\n",
    "GHIJKLM<br>\n",
    "Sample Input 2:<br>\n",
    "6<br>\n",
    "Sample Output 2:<br>\n",
    "ABCDEF<br>\n",
    "BCDEFG<br>\n",
    "CDEFGH<br>\n",
    "DEFGHI<br>\n",
    "EFGHIJ<br>\n",
    "FGHIJK<br>"
   ]
  },
  {
   "cell_type": "code",
   "execution_count": 47,
   "id": "592c58eb",
   "metadata": {},
   "outputs": [
    {
     "name": "stdout",
     "output_type": "stream",
     "text": [
      "5\n",
      "ABCDE\n",
      "BCDEF\n",
      "CDEFG\n",
      "DEFGH\n",
      "EFGHI\n"
     ]
    }
   ],
   "source": [
    "N = int(input())\n",
    "i = 1\n",
    "while i <=N:\n",
    "    j =1\n",
    "    p = i\n",
    "    while j <=N:\n",
    "        print(chr(64+p),end='')\n",
    "        p = p+1\n",
    "        j =j+1\n",
    "    print()\n",
    "    i = i+1"
   ]
  },
  {
   "cell_type": "markdown",
   "id": "eb538486",
   "metadata": {},
   "source": [
    "Print the following pattern for the given N number of rows.<br>\n",
    "Pattern for N = 4<br>\n",
    "A<br>\n",
    "BC<br>\n",
    "CDE<br>\n",
    "DEFG<br>\n",
    "Input format :<br>\n",
    "Integer N (Total no. of rows)<br>\n",
    "Output format :<br>\n",
    "Pattern in N lines<br>\n",
    "Constraints<br>\n",
    "0 <= N <= 13<br>\n",
    "Sample Input 1:<br>\n",
    "5<br>\n",
    "Sample Output 1:<br>\n",
    "A<br>\n",
    "BC<br>\n",
    "CDE<br>\n",
    "DEFG<br>\n",
    "EFGHI<br>\n",
    "Sample Input 2:<br>\n",
    "6<br>\n",
    "Sample Output 2:<br>\n",
    "A<br>\n",
    "BC<br>\n",
    "CDE<br>\n",
    "DEFG<br>\n",
    "EFGHI<br>\n",
    "FGHIJK<br>"
   ]
  },
  {
   "cell_type": "code",
   "execution_count": 49,
   "id": "677fe382",
   "metadata": {},
   "outputs": [
    {
     "name": "stdout",
     "output_type": "stream",
     "text": [
      "5\n",
      "A\n",
      "BC\n",
      "DEF\n",
      "GHIJ\n",
      "KLMNO\n"
     ]
    }
   ],
   "source": [
    "N = int(input())\n",
    "i=1\n",
    "p = 1\n",
    "while i <=N:\n",
    "    j =1\n",
    "    while j<=i:\n",
    "        print(chr(64+p),end='')\n",
    "        p = p+1\n",
    "        j = j+1\n",
    "    print()\n",
    "    i = i+1"
   ]
  },
  {
   "cell_type": "markdown",
   "id": "ad4ac9cd",
   "metadata": {},
   "source": [
    "Print the following pattern for the given number of rows.<br>\n",
    "Pattern for N = 5<br>\n",
    "E<br>\n",
    "DE<br>\n",
    "CDE<br>\n",
    "BCDE<br>\n",
    "ABCDE<br>\n",
    "Input format :<br>\n",
    "N (Total no. of rows)<br>\n",
    "Output format :<br>\n",
    "Pattern in N lines<br>\n",
    "Constraints<br>\n",
    "0 <= N <= 26<br>\n",
    "Sample Input 1:<br>\n",
    "8<br>\n",
    "Sample Output 1:<br>\n",
    "H<br>\n",
    "GH<br>\n",
    "FGH<br>\n",
    "EFGH<br>\n",
    "DEFGH<br>\n",
    "CDEFGH<br>\n",
    "BCDEFGH<br>\n",
    "ABCDEFGH<br>\n",
    "Sample Input 2:<br>\n",
    "7<br>\n",
    "Sample Output 2:<br>\n",
    "G<br>\n",
    "FG<br>\n",
    "EFG<br>\n",
    "DEFG<br>\n",
    "CDEFG<br>\n",
    "BCDEFG<br>\n",
    "ABCDEFG<br>"
   ]
  },
  {
   "cell_type": "code",
   "execution_count": 53,
   "id": "49dda5d6",
   "metadata": {},
   "outputs": [
    {
     "name": "stdout",
     "output_type": "stream",
     "text": [
      "7\n",
      "G\n",
      "GF\n",
      "GFE\n",
      "GFED\n",
      "GFEDC\n",
      "GFEDCB\n",
      "GFEDCBA\n"
     ]
    }
   ],
   "source": [
    "N = int(input())\n",
    "i=1\n",
    "while i <=N:\n",
    "    j =1\n",
    "    p = N\n",
    "    while j<=i:\n",
    "        print(chr(64+p),end='')\n",
    "        p = p-1\n",
    "        j = j+1\n",
    "    print()\n",
    "    i = i+1"
   ]
  }
 ],
 "metadata": {
  "kernelspec": {
   "display_name": "Python 3 (ipykernel)",
   "language": "python",
   "name": "python3"
  },
  "language_info": {
   "codemirror_mode": {
    "name": "ipython",
    "version": 3
   },
   "file_extension": ".py",
   "mimetype": "text/x-python",
   "name": "python",
   "nbconvert_exporter": "python",
   "pygments_lexer": "ipython3",
   "version": "3.9.12"
  }
 },
 "nbformat": 4,
 "nbformat_minor": 5
}
